{
 "cells": [
  {
   "cell_type": "code",
   "execution_count": 1,
   "metadata": {},
   "outputs": [
    {
     "name": "stdout",
     "output_type": "stream",
     "text": [
      "✅ Plotly loaded successfully\n",
      "✅ IPywidgets loaded successfully\n",
      "✅ Setup completed!\n",
      "📂 Project root: /Users/jmarwell/Desktop/Projects/drip/acoustic-sysml-v2\n",
      "🔧 Plotly available: True\n",
      "🎛️ Widgets available: True\n"
     ]
    }
   ],
   "source": [
    "# Setup and imports\n",
    "import sys\n",
    "import os\n",
    "\n",
    "# Add the project root to Python path\n",
    "if 'notebooks' in os.getcwd():\n",
    "    project_root = os.path.dirname(os.getcwd())\n",
    "else:\n",
    "    project_root = os.getcwd()\n",
    "\n",
    "if project_root not in sys.path:\n",
    "    sys.path.insert(0, project_root)\n",
    "\n",
    "import pandas as pd\n",
    "import numpy as np\n",
    "import matplotlib.pyplot as plt\n",
    "from IPython.display import display\n",
    "from typing import Dict, List, Any, Tuple\n",
    "\n",
    "# Handle plotly imports with auto-installation\n",
    "PLOTLY_AVAILABLE = False\n",
    "try:\n",
    "    import plotly.graph_objects as go\n",
    "    import plotly.express as px\n",
    "    PLOTLY_AVAILABLE = True\n",
    "    print(\"✅ Plotly loaded successfully\")\n",
    "except ImportError:\n",
    "    try:\n",
    "        print(\"📦 Installing plotly...\")\n",
    "        import subprocess\n",
    "        subprocess.check_call([sys.executable, \"-m\", \"pip\", \"install\", \"plotly\"])\n",
    "        import plotly.graph_objects as go\n",
    "        import plotly.express as px\n",
    "        PLOTLY_AVAILABLE = True\n",
    "        print(\"✅ Plotly installed and loaded\")\n",
    "    except Exception as e:\n",
    "        print(f\"⚠️ Could not install plotly: {e}\")\n",
    "        print(\"   Visualizations will use matplotlib fallback\")\n",
    "\n",
    "# Handle ipywidgets imports with auto-installation  \n",
    "WIDGETS_AVAILABLE = False\n",
    "try:\n",
    "    import ipywidgets as widgets\n",
    "    WIDGETS_AVAILABLE = True\n",
    "    print(\"✅ IPywidgets loaded successfully\")\n",
    "except ImportError:\n",
    "    try:\n",
    "        print(\"📦 Installing ipywidgets...\")\n",
    "        import subprocess\n",
    "        subprocess.check_call([sys.executable, \"-m\", \"pip\", \"install\", \"ipywidgets\"])\n",
    "        import ipywidgets as widgets\n",
    "        WIDGETS_AVAILABLE = True\n",
    "        print(\"✅ IPywidgets installed and loaded\")\n",
    "    except Exception as e:\n",
    "        print(f\"⚠️ Could not install ipywidgets: {e}\")\n",
    "        print(\"   Interactive features will be limited\")\n",
    "\n",
    "# Import our component registry\n",
    "from models.component_registry import ComponentRegistry, ComponentCategory\n",
    "\n",
    "# Set style\n",
    "plt.style.use('seaborn-v0_8-darkgrid')\n",
    "plt.rcParams['figure.dpi'] = 100\n",
    "\n",
    "print(\"✅ Setup completed!\")\n",
    "print(f\"📂 Project root: {project_root}\")\n",
    "print(f\"🔧 Plotly available: {PLOTLY_AVAILABLE}\")\n",
    "print(f\"🎛️ Widgets available: {WIDGETS_AVAILABLE}\")"
   ]
  },
  {
   "cell_type": "code",
   "execution_count": 2,
   "metadata": {},
   "outputs": [
    {
     "name": "stdout",
     "output_type": "stream",
     "text": [
      "✅ Plotly loaded successfully\n",
      "✅ IPywidgets loaded successfully\n",
      "✅ Setup completed!\n",
      "📂 Project root: /Users/jmarwell/Desktop/Projects/drip/acoustic-sysml-v2\n",
      "🔧 Plotly available: True\n",
      "🎛️ Widgets available: True\n"
     ]
    }
   ],
   "source": [
    "# Setup and imports\n",
    "import sys\n",
    "import os\n",
    "\n",
    "# Add the project root to Python path\n",
    "if 'notebooks' in os.getcwd():\n",
    "    project_root = os.path.dirname(os.getcwd())\n",
    "else:\n",
    "    project_root = os.getcwd()\n",
    "\n",
    "if project_root not in sys.path:\n",
    "    sys.path.insert(0, project_root)\n",
    "\n",
    "import pandas as pd\n",
    "import numpy as np\n",
    "import matplotlib.pyplot as plt\n",
    "from IPython.display import display\n",
    "from typing import Dict, List, Any, Tuple\n",
    "\n",
    "# Handle plotly imports with auto-installation\n",
    "PLOTLY_AVAILABLE = False\n",
    "try:\n",
    "    import plotly.graph_objects as go\n",
    "    import plotly.express as px\n",
    "    PLOTLY_AVAILABLE = True\n",
    "    print(\"✅ Plotly loaded successfully\")\n",
    "except ImportError:\n",
    "    try:\n",
    "        print(\"📦 Installing plotly...\")\n",
    "        import subprocess\n",
    "        subprocess.check_call([sys.executable, \"-m\", \"pip\", \"install\", \"plotly\"])\n",
    "        import plotly.graph_objects as go\n",
    "        import plotly.express as px\n",
    "        PLOTLY_AVAILABLE = True\n",
    "        print(\"✅ Plotly installed and loaded\")\n",
    "    except Exception as e:\n",
    "        print(f\"⚠️ Could not install plotly: {e}\")\n",
    "        print(\"   Visualizations will use matplotlib fallback\")\n",
    "\n",
    "# Handle ipywidgets imports with auto-installation  \n",
    "WIDGETS_AVAILABLE = False\n",
    "try:\n",
    "    import ipywidgets as widgets\n",
    "    WIDGETS_AVAILABLE = True\n",
    "    print(\"✅ IPywidgets loaded successfully\")\n",
    "except ImportError:\n",
    "    try:\n",
    "        print(\"📦 Installing ipywidgets...\")\n",
    "        import subprocess\n",
    "        subprocess.check_call([sys.executable, \"-m\", \"pip\", \"install\", \"ipywidgets\"])\n",
    "        import ipywidgets as widgets\n",
    "        WIDGETS_AVAILABLE = True\n",
    "        print(\"✅ IPywidgets installed and loaded\")\n",
    "    except Exception as e:\n",
    "        print(f\"⚠️ Could not install ipywidgets: {e}\")\n",
    "        print(\"   Interactive features will be limited\")\n",
    "\n",
    "# Import our component registry\n",
    "from models.component_registry import ComponentRegistry, ComponentCategory\n",
    "\n",
    "# Set style\n",
    "plt.style.use('seaborn-v0_8-darkgrid')\n",
    "plt.rcParams['figure.dpi'] = 100\n",
    "\n",
    "print(\"✅ Setup completed!\")\n",
    "print(f\"📂 Project root: {project_root}\")\n",
    "print(f\"🔧 Plotly available: {PLOTLY_AVAILABLE}\")\n",
    "print(f\"🎛️ Widgets available: {WIDGETS_AVAILABLE}\")"
   ]
  },
  {
   "cell_type": "code",
   "execution_count": 3,
   "metadata": {},
   "outputs": [
    {
     "name": "stdout",
     "output_type": "stream",
     "text": [
      "✅ TechnicalSpecs loaded for all 51 components\n",
      "✅ Categories: ['Frame Subsystem', 'Heated Bed Subsystem', 'Acoustic Cylinder Subsystem', 'Crucible Subsystem', 'Power/Control Subsystem']\n",
      "✅ Total Power Consumption: 14,596W\n",
      "✅ Total Power Supply: 10,000W\n",
      "✅ Net Power Required: 4,596W\n",
      "✅ Power Budget: WITHIN LIMIT\n",
      "✅ Available Margin: 7,404W (61.7%)\n"
     ]
    }
   ],
   "source": [
    "# Initialize registry and verify TechnicalSpecs\n",
    "registry = ComponentRegistry()\n",
    "\n",
    "# Verify TechnicalSpecs are present\n",
    "sample_comp = registry.components[0]\n",
    "if hasattr(sample_comp, 'tech_specs'):\n",
    "    print(f\"✅ TechnicalSpecs loaded for all {len(registry.components)} components\")\n",
    "    print(f\"✅ Categories: {[cat.value for cat in ComponentCategory]}\")\n",
    "    \n",
    "    # NEW: Use updated power budget calculation with proper supply tracking\n",
    "    power_budget = registry.calculate_power_budget()\n",
    "    total_consumption = power_budget['TOTAL']['active_power']\n",
    "    total_supply = power_budget['TOTAL']['power_supply'] \n",
    "    net_power = power_budget['TOTAL']['net_power']\n",
    "    \n",
    "    print(f\"✅ Total Power Consumption: {total_consumption:,.0f}W\")\n",
    "    print(f\"✅ Total Power Supply: {total_supply:,.0f}W\")\n",
    "    print(f\"✅ Net Power Required: {net_power:,.0f}W\")\n",
    "    \n",
    "    # Check against power budget\n",
    "    budget = 12000  # W\n",
    "    if net_power <= budget:\n",
    "        margin = budget - net_power\n",
    "        margin_pct = (margin/budget)*100\n",
    "        print(f\"✅ Power Budget: WITHIN LIMIT\")\n",
    "        print(f\"✅ Available Margin: {margin:,.0f}W ({margin_pct:.1f}%)\")\n",
    "    else:\n",
    "        print(f\"❌ Power Budget: EXCEEDS LIMIT by {net_power-budget:,.0f}W\")\n",
    "else:\n",
    "    print(\"⚠️ TechnicalSpecs not found - please update component_registry.py\")"
   ]
  },
  {
   "cell_type": "code",
   "execution_count": 4,
   "metadata": {},
   "outputs": [
    {
     "name": "stdout",
     "output_type": "stream",
     "text": [
      "🔧 COMPREHENSIVE DIMENSIONAL ANALYSIS\n",
      "================================================================================\n",
      "\n",
      "📐 Components by Volume (Top 15):\n"
     ]
    },
    {
     "data": {
      "text/html": [
       "<div>\n",
       "<style scoped>\n",
       "    .dataframe tbody tr th:only-of-type {\n",
       "        vertical-align: middle;\n",
       "    }\n",
       "\n",
       "    .dataframe tbody tr th {\n",
       "        vertical-align: top;\n",
       "    }\n",
       "\n",
       "    .dataframe thead th {\n",
       "        text-align: right;\n",
       "    }\n",
       "</style>\n",
       "<table border=\"1\" class=\"dataframe\">\n",
       "  <thead>\n",
       "    <tr style=\"text-align: right;\">\n",
       "      <th></th>\n",
       "      <th>Component</th>\n",
       "      <th>Category</th>\n",
       "      <th>Dimensions</th>\n",
       "      <th>Qty</th>\n",
       "      <th>Unit Volume (L)</th>\n",
       "      <th>Total Volume (L)</th>\n",
       "    </tr>\n",
       "  </thead>\n",
       "  <tbody>\n",
       "    <tr>\n",
       "      <th>2</th>\n",
       "      <td>Frame</td>\n",
       "      <td>Frame Subsystem</td>\n",
       "      <td>500×500×800mm</td>\n",
       "      <td>1</td>\n",
       "      <td>200.000</td>\n",
       "      <td>200.000</td>\n",
       "    </tr>\n",
       "    <tr>\n",
       "      <th>37</th>\n",
       "      <td>Control Enclosure</td>\n",
       "      <td>Power/Control Subsystem</td>\n",
       "      <td>500×400×200mm</td>\n",
       "      <td>1</td>\n",
       "      <td>40.000</td>\n",
       "      <td>40.000</td>\n",
       "    </tr>\n",
       "    <tr>\n",
       "      <th>19</th>\n",
       "      <td>Induction Heater</td>\n",
       "      <td>Crucible Subsystem</td>\n",
       "      <td>400×300×200mm</td>\n",
       "      <td>1</td>\n",
       "      <td>24.000</td>\n",
       "      <td>24.000</td>\n",
       "    </tr>\n",
       "    <tr>\n",
       "      <th>28</th>\n",
       "      <td>Material Delivery System</td>\n",
       "      <td>Crucible Subsystem</td>\n",
       "      <td>200×200×150mm</td>\n",
       "      <td>1</td>\n",
       "      <td>6.000</td>\n",
       "      <td>6.000</td>\n",
       "    </tr>\n",
       "    <tr>\n",
       "      <th>10</th>\n",
       "      <td>Heated Bed Assembly</td>\n",
       "      <td>Heated Bed Subsystem</td>\n",
       "      <td>300×300×50mm</td>\n",
       "      <td>1</td>\n",
       "      <td>4.500</td>\n",
       "      <td>4.500</td>\n",
       "    </tr>\n",
       "    <tr>\n",
       "      <th>17</th>\n",
       "      <td>Cooling Layer</td>\n",
       "      <td>Acoustic Cylinder Subsystem</td>\n",
       "      <td>300×300×50mm</td>\n",
       "      <td>1</td>\n",
       "      <td>4.500</td>\n",
       "      <td>4.500</td>\n",
       "    </tr>\n",
       "    <tr>\n",
       "      <th>32</th>\n",
       "      <td>10kW PSU</td>\n",
       "      <td>Power/Control Subsystem</td>\n",
       "      <td>280×140×90mm</td>\n",
       "      <td>1</td>\n",
       "      <td>3.528</td>\n",
       "      <td>3.528</td>\n",
       "    </tr>\n",
       "    <tr>\n",
       "      <th>26</th>\n",
       "      <td>Material Feed System</td>\n",
       "      <td>Crucible Subsystem</td>\n",
       "      <td>200×150×100mm</td>\n",
       "      <td>1</td>\n",
       "      <td>3.000</td>\n",
       "      <td>3.000</td>\n",
       "    </tr>\n",
       "    <tr>\n",
       "      <th>12</th>\n",
       "      <td>Thermal Isolation Tube</td>\n",
       "      <td>Heated Bed Subsystem</td>\n",
       "      <td>Ø350/300×100mm</td>\n",
       "      <td>1</td>\n",
       "      <td>2.553</td>\n",
       "      <td>2.553</td>\n",
       "    </tr>\n",
       "    <tr>\n",
       "      <th>0</th>\n",
       "      <td>Kapton Tubes</td>\n",
       "      <td>Frame Subsystem</td>\n",
       "      <td>Ø101.6×150mm</td>\n",
       "      <td>2</td>\n",
       "      <td>1.216</td>\n",
       "      <td>2.432</td>\n",
       "    </tr>\n",
       "    <tr>\n",
       "      <th>3</th>\n",
       "      <td>Baseplate</td>\n",
       "      <td>Frame Subsystem</td>\n",
       "      <td>400×400×12.7mm</td>\n",
       "      <td>1</td>\n",
       "      <td>2.032</td>\n",
       "      <td>2.032</td>\n",
       "    </tr>\n",
       "    <tr>\n",
       "      <th>4</th>\n",
       "      <td>SS Tube</td>\n",
       "      <td>Frame Subsystem</td>\n",
       "      <td>Ø120×150mm</td>\n",
       "      <td>1</td>\n",
       "      <td>1.696</td>\n",
       "      <td>1.696</td>\n",
       "    </tr>\n",
       "    <tr>\n",
       "      <th>7</th>\n",
       "      <td>Build Volume</td>\n",
       "      <td>Frame Subsystem</td>\n",
       "      <td>Ø120×150mm</td>\n",
       "      <td>1</td>\n",
       "      <td>1.696</td>\n",
       "      <td>1.696</td>\n",
       "    </tr>\n",
       "    <tr>\n",
       "      <th>11</th>\n",
       "      <td>Conductive Block</td>\n",
       "      <td>Heated Bed Subsystem</td>\n",
       "      <td>250×250×25mm</td>\n",
       "      <td>1</td>\n",
       "      <td>1.562</td>\n",
       "      <td>1.562</td>\n",
       "    </tr>\n",
       "    <tr>\n",
       "      <th>34</th>\n",
       "      <td>6-Channel Amp Modules</td>\n",
       "      <td>Power/Control Subsystem</td>\n",
       "      <td>120×80×40mm</td>\n",
       "      <td>4</td>\n",
       "      <td>0.384</td>\n",
       "      <td>1.536</td>\n",
       "    </tr>\n",
       "  </tbody>\n",
       "</table>\n",
       "</div>"
      ],
      "text/plain": [
       "                   Component                     Category      Dimensions  \\\n",
       "2                      Frame              Frame Subsystem   500×500×800mm   \n",
       "37         Control Enclosure      Power/Control Subsystem   500×400×200mm   \n",
       "19          Induction Heater           Crucible Subsystem   400×300×200mm   \n",
       "28  Material Delivery System           Crucible Subsystem   200×200×150mm   \n",
       "10       Heated Bed Assembly         Heated Bed Subsystem    300×300×50mm   \n",
       "17             Cooling Layer  Acoustic Cylinder Subsystem    300×300×50mm   \n",
       "32                  10kW PSU      Power/Control Subsystem    280×140×90mm   \n",
       "26      Material Feed System           Crucible Subsystem   200×150×100mm   \n",
       "12    Thermal Isolation Tube         Heated Bed Subsystem  Ø350/300×100mm   \n",
       "0               Kapton Tubes              Frame Subsystem    Ø101.6×150mm   \n",
       "3                  Baseplate              Frame Subsystem  400×400×12.7mm   \n",
       "4                    SS Tube              Frame Subsystem      Ø120×150mm   \n",
       "7               Build Volume              Frame Subsystem      Ø120×150mm   \n",
       "11          Conductive Block         Heated Bed Subsystem    250×250×25mm   \n",
       "34     6-Channel Amp Modules      Power/Control Subsystem     120×80×40mm   \n",
       "\n",
       "    Qty  Unit Volume (L)  Total Volume (L)  \n",
       "2     1          200.000           200.000  \n",
       "37    1           40.000            40.000  \n",
       "19    1           24.000            24.000  \n",
       "28    1            6.000             6.000  \n",
       "10    1            4.500             4.500  \n",
       "17    1            4.500             4.500  \n",
       "32    1            3.528             3.528  \n",
       "26    1            3.000             3.000  \n",
       "12    1            2.553             2.553  \n",
       "0     2            1.216             2.432  \n",
       "3     1            2.032             2.032  \n",
       "4     1            1.696             1.696  \n",
       "7     1            1.696             1.696  \n",
       "11    1            1.562             1.562  \n",
       "34    4            0.384             1.536  "
      ]
     },
     "metadata": {},
     "output_type": "display_data"
    },
    {
     "name": "stdout",
     "output_type": "stream",
     "text": [
      "\n",
      "📦 Total Component Volume: 307.8 Liters\n",
      "\n",
      "📏 System Envelope Requirements:\n",
      "----------------------------------------\n",
      "  Frame Envelope: 500×500×800mm\n",
      "  Frame Volume: 0.200 m³\n",
      "\n",
      "🔲 Recommended Clearances:\n",
      "----------------------------------------\n",
      "  Service Access: 300mm\n",
      "  Thermal Clearance: 150mm\n",
      "  Cable Management: 100mm\n",
      "  Ventilation: 200mm\n",
      "\n",
      "  Minimum Room Footprint: 1.1×1.1m\n",
      "  Minimum Ceiling Height: 1.1m\n"
     ]
    },
    {
     "data": {
      "application/vnd.plotly.v1+json": {
       "config": {
        "plotlyServerURL": "https://plot.ly"
       },
       "data": [
        {
         "color": "lightblue",
         "i": [
          0,
          1,
          2,
          3,
          4,
          5,
          6,
          7,
          0,
          1,
          2,
          3
         ],
         "j": [
          1,
          2,
          3,
          0,
          5,
          6,
          7,
          4,
          4,
          5,
          6,
          7
         ],
         "k": [
          2,
          3,
          0,
          1,
          6,
          7,
          4,
          5,
          5,
          6,
          7,
          4
         ],
         "name": "System Envelope",
         "opacity": 0.3,
         "type": "mesh3d",
         "x": [
          0,
          500,
          500,
          0,
          0,
          500,
          500,
          0
         ],
         "y": [
          0,
          0,
          500,
          500,
          0,
          0,
          500,
          500
         ],
         "z": [
          0,
          0,
          0,
          0,
          800,
          800,
          800,
          800
         ]
        }
       ],
       "layout": {
        "height": 600,
        "scene": {
         "aspectmode": "data",
         "xaxis": {
          "title": {
           "text": "Length (mm)"
          }
         },
         "yaxis": {
          "title": {
           "text": "Width (mm)"
          }
         },
         "zaxis": {
          "title": {
           "text": "Height (mm)"
          }
         }
        },
        "template": {
         "data": {
          "bar": [
           {
            "error_x": {
             "color": "#2a3f5f"
            },
            "error_y": {
             "color": "#2a3f5f"
            },
            "marker": {
             "line": {
              "color": "#E5ECF6",
              "width": 0.5
             },
             "pattern": {
              "fillmode": "overlay",
              "size": 10,
              "solidity": 0.2
             }
            },
            "type": "bar"
           }
          ],
          "barpolar": [
           {
            "marker": {
             "line": {
              "color": "#E5ECF6",
              "width": 0.5
             },
             "pattern": {
              "fillmode": "overlay",
              "size": 10,
              "solidity": 0.2
             }
            },
            "type": "barpolar"
           }
          ],
          "carpet": [
           {
            "aaxis": {
             "endlinecolor": "#2a3f5f",
             "gridcolor": "white",
             "linecolor": "white",
             "minorgridcolor": "white",
             "startlinecolor": "#2a3f5f"
            },
            "baxis": {
             "endlinecolor": "#2a3f5f",
             "gridcolor": "white",
             "linecolor": "white",
             "minorgridcolor": "white",
             "startlinecolor": "#2a3f5f"
            },
            "type": "carpet"
           }
          ],
          "choropleth": [
           {
            "colorbar": {
             "outlinewidth": 0,
             "ticks": ""
            },
            "type": "choropleth"
           }
          ],
          "contour": [
           {
            "colorbar": {
             "outlinewidth": 0,
             "ticks": ""
            },
            "colorscale": [
             [
              0,
              "#0d0887"
             ],
             [
              0.1111111111111111,
              "#46039f"
             ],
             [
              0.2222222222222222,
              "#7201a8"
             ],
             [
              0.3333333333333333,
              "#9c179e"
             ],
             [
              0.4444444444444444,
              "#bd3786"
             ],
             [
              0.5555555555555556,
              "#d8576b"
             ],
             [
              0.6666666666666666,
              "#ed7953"
             ],
             [
              0.7777777777777778,
              "#fb9f3a"
             ],
             [
              0.8888888888888888,
              "#fdca26"
             ],
             [
              1,
              "#f0f921"
             ]
            ],
            "type": "contour"
           }
          ],
          "contourcarpet": [
           {
            "colorbar": {
             "outlinewidth": 0,
             "ticks": ""
            },
            "type": "contourcarpet"
           }
          ],
          "heatmap": [
           {
            "colorbar": {
             "outlinewidth": 0,
             "ticks": ""
            },
            "colorscale": [
             [
              0,
              "#0d0887"
             ],
             [
              0.1111111111111111,
              "#46039f"
             ],
             [
              0.2222222222222222,
              "#7201a8"
             ],
             [
              0.3333333333333333,
              "#9c179e"
             ],
             [
              0.4444444444444444,
              "#bd3786"
             ],
             [
              0.5555555555555556,
              "#d8576b"
             ],
             [
              0.6666666666666666,
              "#ed7953"
             ],
             [
              0.7777777777777778,
              "#fb9f3a"
             ],
             [
              0.8888888888888888,
              "#fdca26"
             ],
             [
              1,
              "#f0f921"
             ]
            ],
            "type": "heatmap"
           }
          ],
          "histogram": [
           {
            "marker": {
             "pattern": {
              "fillmode": "overlay",
              "size": 10,
              "solidity": 0.2
             }
            },
            "type": "histogram"
           }
          ],
          "histogram2d": [
           {
            "colorbar": {
             "outlinewidth": 0,
             "ticks": ""
            },
            "colorscale": [
             [
              0,
              "#0d0887"
             ],
             [
              0.1111111111111111,
              "#46039f"
             ],
             [
              0.2222222222222222,
              "#7201a8"
             ],
             [
              0.3333333333333333,
              "#9c179e"
             ],
             [
              0.4444444444444444,
              "#bd3786"
             ],
             [
              0.5555555555555556,
              "#d8576b"
             ],
             [
              0.6666666666666666,
              "#ed7953"
             ],
             [
              0.7777777777777778,
              "#fb9f3a"
             ],
             [
              0.8888888888888888,
              "#fdca26"
             ],
             [
              1,
              "#f0f921"
             ]
            ],
            "type": "histogram2d"
           }
          ],
          "histogram2dcontour": [
           {
            "colorbar": {
             "outlinewidth": 0,
             "ticks": ""
            },
            "colorscale": [
             [
              0,
              "#0d0887"
             ],
             [
              0.1111111111111111,
              "#46039f"
             ],
             [
              0.2222222222222222,
              "#7201a8"
             ],
             [
              0.3333333333333333,
              "#9c179e"
             ],
             [
              0.4444444444444444,
              "#bd3786"
             ],
             [
              0.5555555555555556,
              "#d8576b"
             ],
             [
              0.6666666666666666,
              "#ed7953"
             ],
             [
              0.7777777777777778,
              "#fb9f3a"
             ],
             [
              0.8888888888888888,
              "#fdca26"
             ],
             [
              1,
              "#f0f921"
             ]
            ],
            "type": "histogram2dcontour"
           }
          ],
          "mesh3d": [
           {
            "colorbar": {
             "outlinewidth": 0,
             "ticks": ""
            },
            "type": "mesh3d"
           }
          ],
          "parcoords": [
           {
            "line": {
             "colorbar": {
              "outlinewidth": 0,
              "ticks": ""
             }
            },
            "type": "parcoords"
           }
          ],
          "pie": [
           {
            "automargin": true,
            "type": "pie"
           }
          ],
          "scatter": [
           {
            "fillpattern": {
             "fillmode": "overlay",
             "size": 10,
             "solidity": 0.2
            },
            "type": "scatter"
           }
          ],
          "scatter3d": [
           {
            "line": {
             "colorbar": {
              "outlinewidth": 0,
              "ticks": ""
             }
            },
            "marker": {
             "colorbar": {
              "outlinewidth": 0,
              "ticks": ""
             }
            },
            "type": "scatter3d"
           }
          ],
          "scattercarpet": [
           {
            "marker": {
             "colorbar": {
              "outlinewidth": 0,
              "ticks": ""
             }
            },
            "type": "scattercarpet"
           }
          ],
          "scattergeo": [
           {
            "marker": {
             "colorbar": {
              "outlinewidth": 0,
              "ticks": ""
             }
            },
            "type": "scattergeo"
           }
          ],
          "scattergl": [
           {
            "marker": {
             "colorbar": {
              "outlinewidth": 0,
              "ticks": ""
             }
            },
            "type": "scattergl"
           }
          ],
          "scattermap": [
           {
            "marker": {
             "colorbar": {
              "outlinewidth": 0,
              "ticks": ""
             }
            },
            "type": "scattermap"
           }
          ],
          "scattermapbox": [
           {
            "marker": {
             "colorbar": {
              "outlinewidth": 0,
              "ticks": ""
             }
            },
            "type": "scattermapbox"
           }
          ],
          "scatterpolar": [
           {
            "marker": {
             "colorbar": {
              "outlinewidth": 0,
              "ticks": ""
             }
            },
            "type": "scatterpolar"
           }
          ],
          "scatterpolargl": [
           {
            "marker": {
             "colorbar": {
              "outlinewidth": 0,
              "ticks": ""
             }
            },
            "type": "scatterpolargl"
           }
          ],
          "scatterternary": [
           {
            "marker": {
             "colorbar": {
              "outlinewidth": 0,
              "ticks": ""
             }
            },
            "type": "scatterternary"
           }
          ],
          "surface": [
           {
            "colorbar": {
             "outlinewidth": 0,
             "ticks": ""
            },
            "colorscale": [
             [
              0,
              "#0d0887"
             ],
             [
              0.1111111111111111,
              "#46039f"
             ],
             [
              0.2222222222222222,
              "#7201a8"
             ],
             [
              0.3333333333333333,
              "#9c179e"
             ],
             [
              0.4444444444444444,
              "#bd3786"
             ],
             [
              0.5555555555555556,
              "#d8576b"
             ],
             [
              0.6666666666666666,
              "#ed7953"
             ],
             [
              0.7777777777777778,
              "#fb9f3a"
             ],
             [
              0.8888888888888888,
              "#fdca26"
             ],
             [
              1,
              "#f0f921"
             ]
            ],
            "type": "surface"
           }
          ],
          "table": [
           {
            "cells": {
             "fill": {
              "color": "#EBF0F8"
             },
             "line": {
              "color": "white"
             }
            },
            "header": {
             "fill": {
              "color": "#C8D4E3"
             },
             "line": {
              "color": "white"
             }
            },
            "type": "table"
           }
          ]
         },
         "layout": {
          "annotationdefaults": {
           "arrowcolor": "#2a3f5f",
           "arrowhead": 0,
           "arrowwidth": 1
          },
          "autotypenumbers": "strict",
          "coloraxis": {
           "colorbar": {
            "outlinewidth": 0,
            "ticks": ""
           }
          },
          "colorscale": {
           "diverging": [
            [
             0,
             "#8e0152"
            ],
            [
             0.1,
             "#c51b7d"
            ],
            [
             0.2,
             "#de77ae"
            ],
            [
             0.3,
             "#f1b6da"
            ],
            [
             0.4,
             "#fde0ef"
            ],
            [
             0.5,
             "#f7f7f7"
            ],
            [
             0.6,
             "#e6f5d0"
            ],
            [
             0.7,
             "#b8e186"
            ],
            [
             0.8,
             "#7fbc41"
            ],
            [
             0.9,
             "#4d9221"
            ],
            [
             1,
             "#276419"
            ]
           ],
           "sequential": [
            [
             0,
             "#0d0887"
            ],
            [
             0.1111111111111111,
             "#46039f"
            ],
            [
             0.2222222222222222,
             "#7201a8"
            ],
            [
             0.3333333333333333,
             "#9c179e"
            ],
            [
             0.4444444444444444,
             "#bd3786"
            ],
            [
             0.5555555555555556,
             "#d8576b"
            ],
            [
             0.6666666666666666,
             "#ed7953"
            ],
            [
             0.7777777777777778,
             "#fb9f3a"
            ],
            [
             0.8888888888888888,
             "#fdca26"
            ],
            [
             1,
             "#f0f921"
            ]
           ],
           "sequentialminus": [
            [
             0,
             "#0d0887"
            ],
            [
             0.1111111111111111,
             "#46039f"
            ],
            [
             0.2222222222222222,
             "#7201a8"
            ],
            [
             0.3333333333333333,
             "#9c179e"
            ],
            [
             0.4444444444444444,
             "#bd3786"
            ],
            [
             0.5555555555555556,
             "#d8576b"
            ],
            [
             0.6666666666666666,
             "#ed7953"
            ],
            [
             0.7777777777777778,
             "#fb9f3a"
            ],
            [
             0.8888888888888888,
             "#fdca26"
            ],
            [
             1,
             "#f0f921"
            ]
           ]
          },
          "colorway": [
           "#636efa",
           "#EF553B",
           "#00cc96",
           "#ab63fa",
           "#FFA15A",
           "#19d3f3",
           "#FF6692",
           "#B6E880",
           "#FF97FF",
           "#FECB52"
          ],
          "font": {
           "color": "#2a3f5f"
          },
          "geo": {
           "bgcolor": "white",
           "lakecolor": "white",
           "landcolor": "#E5ECF6",
           "showlakes": true,
           "showland": true,
           "subunitcolor": "white"
          },
          "hoverlabel": {
           "align": "left"
          },
          "hovermode": "closest",
          "mapbox": {
           "style": "light"
          },
          "paper_bgcolor": "white",
          "plot_bgcolor": "#E5ECF6",
          "polar": {
           "angularaxis": {
            "gridcolor": "white",
            "linecolor": "white",
            "ticks": ""
           },
           "bgcolor": "#E5ECF6",
           "radialaxis": {
            "gridcolor": "white",
            "linecolor": "white",
            "ticks": ""
           }
          },
          "scene": {
           "xaxis": {
            "backgroundcolor": "#E5ECF6",
            "gridcolor": "white",
            "gridwidth": 2,
            "linecolor": "white",
            "showbackground": true,
            "ticks": "",
            "zerolinecolor": "white"
           },
           "yaxis": {
            "backgroundcolor": "#E5ECF6",
            "gridcolor": "white",
            "gridwidth": 2,
            "linecolor": "white",
            "showbackground": true,
            "ticks": "",
            "zerolinecolor": "white"
           },
           "zaxis": {
            "backgroundcolor": "#E5ECF6",
            "gridcolor": "white",
            "gridwidth": 2,
            "linecolor": "white",
            "showbackground": true,
            "ticks": "",
            "zerolinecolor": "white"
           }
          },
          "shapedefaults": {
           "line": {
            "color": "#2a3f5f"
           }
          },
          "ternary": {
           "aaxis": {
            "gridcolor": "white",
            "linecolor": "white",
            "ticks": ""
           },
           "baxis": {
            "gridcolor": "white",
            "linecolor": "white",
            "ticks": ""
           },
           "bgcolor": "#E5ECF6",
           "caxis": {
            "gridcolor": "white",
            "linecolor": "white",
            "ticks": ""
           }
          },
          "title": {
           "x": 0.05
          },
          "xaxis": {
           "automargin": true,
           "gridcolor": "white",
           "linecolor": "white",
           "ticks": "",
           "title": {
            "standoff": 15
           },
           "zerolinecolor": "white",
           "zerolinewidth": 2
          },
          "yaxis": {
           "automargin": true,
           "gridcolor": "white",
           "linecolor": "white",
           "ticks": "",
           "title": {
            "standoff": 15
           },
           "zerolinecolor": "white",
           "zerolinewidth": 2
          }
         }
        },
        "title": {
         "text": "System Envelope Visualization"
        }
       }
      },
      "image/png": "[encoded data removed]"
     },
     "metadata": {},
     "output_type": "display_data"
    }
   ],
   "source": [
    "def comprehensive_dimensional_analysis():\n",
    "    \"\"\"Complete dimensional analysis with volume calculations and spatial planning\"\"\"\n",
    "    \n",
    "    # Ensure registry is available\n",
    "    if 'registry' not in globals():\n",
    "        global registry\n",
    "        registry = ComponentRegistry()\n",
    "    \n",
    "    print(\"🔧 COMPREHENSIVE DIMENSIONAL ANALYSIS\")\n",
    "    print(\"=\" * 80)\n",
    "    \n",
    "    # 1. Component Dimensions Summary\n",
    "    dimension_data = []\n",
    "    total_volume = 0\n",
    "    \n",
    "    for comp in registry.components:\n",
    "        if comp.tech_specs.dimensions:\n",
    "            dims = comp.tech_specs.dimensions\n",
    "            \n",
    "            # Calculate volume based on available dimensions\n",
    "            volume = 0\n",
    "            dim_str = \"\"\n",
    "            \n",
    "            if 'L' in dims and 'W' in dims and 'H' in dims:\n",
    "                volume = dims['L'] * dims['W'] * dims['H'] / 1e6  # Convert to liters\n",
    "                dim_str = f\"{dims['L']}×{dims['W']}×{dims['H']}mm\"\n",
    "            elif 'D' in dims and 'H' in dims:\n",
    "                volume = 3.14159 * (dims['D']/2)**2 * dims['H'] / 1e6  # Cylinder\n",
    "                dim_str = f\"Ø{dims['D']}×{dims['H']}mm\"\n",
    "            elif 'D' in dims and 'L' in dims:\n",
    "                volume = 3.14159 * (dims['D']/2)**2 * dims['L'] / 1e6\n",
    "                dim_str = f\"Ø{dims['D']}×{dims['L']}mm\"\n",
    "            elif 'D_outer' in dims and 'D_inner' in dims and 'H' in dims:\n",
    "                # Hollow cylinder\n",
    "                outer_vol = 3.14159 * (dims['D_outer']/2)**2 * dims['H'] / 1e6\n",
    "                inner_vol = 3.14159 * (dims['D_inner']/2)**2 * dims['H'] / 1e6\n",
    "                volume = outer_vol - inner_vol\n",
    "                dim_str = f\"Ø{dims['D_outer']}/{dims['D_inner']}×{dims['H']}mm\"\n",
    "            \n",
    "            if volume > 0:\n",
    "                total_volume += volume * comp.quantity\n",
    "                dimension_data.append({\n",
    "                    'Component': comp.name,\n",
    "                    'Category': comp.category.value,\n",
    "                    'Dimensions': dim_str,\n",
    "                    'Qty': comp.quantity,\n",
    "                    'Unit Volume (L)': round(volume, 3),\n",
    "                    'Total Volume (L)': round(volume * comp.quantity, 3)\n",
    "                })\n",
    "    \n",
    "    # Display table of significant components\n",
    "    if dimension_data:\n",
    "        df = pd.DataFrame(dimension_data)\n",
    "        df = df.sort_values('Total Volume (L)', ascending=False)\n",
    "        print(\"\\n📐 Components by Volume (Top 15):\")\n",
    "        display(df.head(15))\n",
    "        print(f\"\\n📦 Total Component Volume: {total_volume:.1f} Liters\")\n",
    "    \n",
    "    # 2. System Envelope Analysis\n",
    "    print(\"\\n📏 System Envelope Requirements:\")\n",
    "    print(\"-\" * 40)\n",
    "    \n",
    "    # Find maximum dimensions\n",
    "    max_envelope = {'L': 0, 'W': 0, 'H': 0}\n",
    "    \n",
    "    for comp in registry.components:\n",
    "        if comp.category == ComponentCategory.FRAME and comp.tech_specs.dimensions:\n",
    "            dims = comp.tech_specs.dimensions\n",
    "            for key in ['L', 'W', 'H']:\n",
    "                if key in dims:\n",
    "                    max_envelope[key] = max(max_envelope[key], dims[key])\n",
    "    \n",
    "    print(f\"  Frame Envelope: {max_envelope['L']}×{max_envelope['W']}×{max_envelope['H']}mm\")\n",
    "    \n",
    "    if all(max_envelope.values()):\n",
    "        frame_volume = max_envelope['L'] * max_envelope['W'] * max_envelope['H'] / 1e9\n",
    "        print(f\"  Frame Volume: {frame_volume:.3f} m³\")\n",
    "    \n",
    "    # 3. Clearance Requirements\n",
    "    print(\"\\n🔲 Recommended Clearances:\")\n",
    "    print(\"-\" * 40)\n",
    "    clearances = {\n",
    "        'Service Access': 300,  # mm\n",
    "        'Thermal Clearance': 150,\n",
    "        'Cable Management': 100,\n",
    "        'Ventilation': 200\n",
    "    }\n",
    "    \n",
    "    for purpose, clearance in clearances.items():\n",
    "        print(f\"  {purpose}: {clearance}mm\")\n",
    "    \n",
    "    total_clearance = max(clearances.values())\n",
    "    final_envelope = {\n",
    "        'L': max_envelope['L'] + 2*total_clearance,\n",
    "        'W': max_envelope['W'] + 2*total_clearance,\n",
    "        'H': max_envelope['H'] + total_clearance  # Top clearance only\n",
    "    }\n",
    "    \n",
    "    if all(final_envelope.values()):\n",
    "        print(f\"\\n  Minimum Room Footprint: {final_envelope['L']/1000:.1f}×{final_envelope['W']/1000:.1f}m\")\n",
    "        print(f\"  Minimum Ceiling Height: {final_envelope['H']/1000:.1f}m\")\n",
    "    \n",
    "    # 4. Visualization (with proper error handling)\n",
    "    if PLOTLY_AVAILABLE and all(max_envelope.values()):\n",
    "        try:\n",
    "            fig = go.Figure()\n",
    "            \n",
    "            # Add 3D box for system envelope\n",
    "            x_coords = [0, max_envelope['L'], max_envelope['L'], 0, 0, max_envelope['L'], max_envelope['L'], 0]\n",
    "            y_coords = [0, 0, max_envelope['W'], max_envelope['W'], 0, 0, max_envelope['W'], max_envelope['W']]  \n",
    "            z_coords = [0, 0, 0, 0, max_envelope['H'], max_envelope['H'], max_envelope['H'], max_envelope['H']]\n",
    "            \n",
    "            fig.add_trace(go.Mesh3d(\n",
    "                x=x_coords,\n",
    "                y=y_coords, \n",
    "                z=z_coords,\n",
    "                i=[0, 1, 2, 3, 4, 5, 6, 7, 0, 1, 2, 3],\n",
    "                j=[1, 2, 3, 0, 5, 6, 7, 4, 4, 5, 6, 7],\n",
    "                k=[2, 3, 0, 1, 6, 7, 4, 5, 5, 6, 7, 4],\n",
    "                opacity=0.3,\n",
    "                color='lightblue',\n",
    "                name='System Envelope'\n",
    "            ))\n",
    "            \n",
    "            fig.update_layout(\n",
    "                title=\"System Envelope Visualization\",\n",
    "                scene=dict(\n",
    "                    xaxis_title=\"Length (mm)\",\n",
    "                    yaxis_title=\"Width (mm)\",\n",
    "                    zaxis_title=\"Height (mm)\",\n",
    "                    aspectmode='data'\n",
    "                ),\n",
    "                height=600\n",
    "            )\n",
    "            fig.show()\n",
    "        except Exception as e:\n",
    "            print(f\"\\n📊 3D visualization failed: {e}\")\n",
    "            print(\"   System envelope dimensions shown above\")\n",
    "    else:\n",
    "        if not PLOTLY_AVAILABLE:\n",
    "            print(\"\\n📊 3D visualization requires plotly installation\")\n",
    "        else:\n",
    "            print(\"\\n📊 Insufficient dimension data for 3D visualization\")\n",
    "    \n",
    "    return dimension_data\n",
    "\n",
    "# Run the analysis\n",
    "dim_data = comprehensive_dimensional_analysis()"
   ]
  },
  {
   "cell_type": "markdown",
   "metadata": {},
   "source": [
    "## Advanced Dimensional Analysis and Space Planning"
   ]
  },
  {
   "cell_type": "code",
   "execution_count": 5,
   "metadata": {
    "scrolled": true
   },
   "outputs": [
    {
     "name": "stdout",
     "output_type": "stream",
     "text": [
      "🔧 COMPREHENSIVE DIMENSIONAL ANALYSIS\n",
      "================================================================================\n",
      "\n",
      "📐 Components by Volume (Top 15):\n"
     ]
    },
    {
     "data": {
      "text/html": [
       "<div>\n",
       "<style scoped>\n",
       "    .dataframe tbody tr th:only-of-type {\n",
       "        vertical-align: middle;\n",
       "    }\n",
       "\n",
       "    .dataframe tbody tr th {\n",
       "        vertical-align: top;\n",
       "    }\n",
       "\n",
       "    .dataframe thead th {\n",
       "        text-align: right;\n",
       "    }\n",
       "</style>\n",
       "<table border=\"1\" class=\"dataframe\">\n",
       "  <thead>\n",
       "    <tr style=\"text-align: right;\">\n",
       "      <th></th>\n",
       "      <th>Component</th>\n",
       "      <th>Category</th>\n",
       "      <th>Dimensions</th>\n",
       "      <th>Qty</th>\n",
       "      <th>Unit Volume (L)</th>\n",
       "      <th>Total Volume (L)</th>\n",
       "    </tr>\n",
       "  </thead>\n",
       "  <tbody>\n",
       "    <tr>\n",
       "      <th>2</th>\n",
       "      <td>Frame</td>\n",
       "      <td>Frame Subsystem</td>\n",
       "      <td>500×500×800mm</td>\n",
       "      <td>1</td>\n",
       "      <td>200.000</td>\n",
       "      <td>200.000</td>\n",
       "    </tr>\n",
       "    <tr>\n",
       "      <th>37</th>\n",
       "      <td>Control Enclosure</td>\n",
       "      <td>Power/Control Subsystem</td>\n",
       "      <td>500×400×200mm</td>\n",
       "      <td>1</td>\n",
       "      <td>40.000</td>\n",
       "      <td>40.000</td>\n",
       "    </tr>\n",
       "    <tr>\n",
       "      <th>19</th>\n",
       "      <td>Induction Heater</td>\n",
       "      <td>Crucible Subsystem</td>\n",
       "      <td>400×300×200mm</td>\n",
       "      <td>1</td>\n",
       "      <td>24.000</td>\n",
       "      <td>24.000</td>\n",
       "    </tr>\n",
       "    <tr>\n",
       "      <th>28</th>\n",
       "      <td>Material Delivery System</td>\n",
       "      <td>Crucible Subsystem</td>\n",
       "      <td>200×200×150mm</td>\n",
       "      <td>1</td>\n",
       "      <td>6.000</td>\n",
       "      <td>6.000</td>\n",
       "    </tr>\n",
       "    <tr>\n",
       "      <th>10</th>\n",
       "      <td>Heated Bed Assembly</td>\n",
       "      <td>Heated Bed Subsystem</td>\n",
       "      <td>300×300×50mm</td>\n",
       "      <td>1</td>\n",
       "      <td>4.500</td>\n",
       "      <td>4.500</td>\n",
       "    </tr>\n",
       "    <tr>\n",
       "      <th>17</th>\n",
       "      <td>Cooling Layer</td>\n",
       "      <td>Acoustic Cylinder Subsystem</td>\n",
       "      <td>300×300×50mm</td>\n",
       "      <td>1</td>\n",
       "      <td>4.500</td>\n",
       "      <td>4.500</td>\n",
       "    </tr>\n",
       "    <tr>\n",
       "      <th>32</th>\n",
       "      <td>10kW PSU</td>\n",
       "      <td>Power/Control Subsystem</td>\n",
       "      <td>280×140×90mm</td>\n",
       "      <td>1</td>\n",
       "      <td>3.528</td>\n",
       "      <td>3.528</td>\n",
       "    </tr>\n",
       "    <tr>\n",
       "      <th>26</th>\n",
       "      <td>Material Feed System</td>\n",
       "      <td>Crucible Subsystem</td>\n",
       "      <td>200×150×100mm</td>\n",
       "      <td>1</td>\n",
       "      <td>3.000</td>\n",
       "      <td>3.000</td>\n",
       "    </tr>\n",
       "    <tr>\n",
       "      <th>12</th>\n",
       "      <td>Thermal Isolation Tube</td>\n",
       "      <td>Heated Bed Subsystem</td>\n",
       "      <td>Ø350/300×100mm</td>\n",
       "      <td>1</td>\n",
       "      <td>2.553</td>\n",
       "      <td>2.553</td>\n",
       "    </tr>\n",
       "    <tr>\n",
       "      <th>0</th>\n",
       "      <td>Kapton Tubes</td>\n",
       "      <td>Frame Subsystem</td>\n",
       "      <td>Ø101.6×150mm</td>\n",
       "      <td>2</td>\n",
       "      <td>1.216</td>\n",
       "      <td>2.432</td>\n",
       "    </tr>\n",
       "    <tr>\n",
       "      <th>3</th>\n",
       "      <td>Baseplate</td>\n",
       "      <td>Frame Subsystem</td>\n",
       "      <td>400×400×12.7mm</td>\n",
       "      <td>1</td>\n",
       "      <td>2.032</td>\n",
       "      <td>2.032</td>\n",
       "    </tr>\n",
       "    <tr>\n",
       "      <th>4</th>\n",
       "      <td>SS Tube</td>\n",
       "      <td>Frame Subsystem</td>\n",
       "      <td>Ø120×150mm</td>\n",
       "      <td>1</td>\n",
       "      <td>1.696</td>\n",
       "      <td>1.696</td>\n",
       "    </tr>\n",
       "    <tr>\n",
       "      <th>7</th>\n",
       "      <td>Build Volume</td>\n",
       "      <td>Frame Subsystem</td>\n",
       "      <td>Ø120×150mm</td>\n",
       "      <td>1</td>\n",
       "      <td>1.696</td>\n",
       "      <td>1.696</td>\n",
       "    </tr>\n",
       "    <tr>\n",
       "      <th>11</th>\n",
       "      <td>Conductive Block</td>\n",
       "      <td>Heated Bed Subsystem</td>\n",
       "      <td>250×250×25mm</td>\n",
       "      <td>1</td>\n",
       "      <td>1.562</td>\n",
       "      <td>1.562</td>\n",
       "    </tr>\n",
       "    <tr>\n",
       "      <th>34</th>\n",
       "      <td>6-Channel Amp Modules</td>\n",
       "      <td>Power/Control Subsystem</td>\n",
       "      <td>120×80×40mm</td>\n",
       "      <td>4</td>\n",
       "      <td>0.384</td>\n",
       "      <td>1.536</td>\n",
       "    </tr>\n",
       "  </tbody>\n",
       "</table>\n",
       "</div>"
      ],
      "text/plain": [
       "                   Component                     Category      Dimensions  \\\n",
       "2                      Frame              Frame Subsystem   500×500×800mm   \n",
       "37         Control Enclosure      Power/Control Subsystem   500×400×200mm   \n",
       "19          Induction Heater           Crucible Subsystem   400×300×200mm   \n",
       "28  Material Delivery System           Crucible Subsystem   200×200×150mm   \n",
       "10       Heated Bed Assembly         Heated Bed Subsystem    300×300×50mm   \n",
       "17             Cooling Layer  Acoustic Cylinder Subsystem    300×300×50mm   \n",
       "32                  10kW PSU      Power/Control Subsystem    280×140×90mm   \n",
       "26      Material Feed System           Crucible Subsystem   200×150×100mm   \n",
       "12    Thermal Isolation Tube         Heated Bed Subsystem  Ø350/300×100mm   \n",
       "0               Kapton Tubes              Frame Subsystem    Ø101.6×150mm   \n",
       "3                  Baseplate              Frame Subsystem  400×400×12.7mm   \n",
       "4                    SS Tube              Frame Subsystem      Ø120×150mm   \n",
       "7               Build Volume              Frame Subsystem      Ø120×150mm   \n",
       "11          Conductive Block         Heated Bed Subsystem    250×250×25mm   \n",
       "34     6-Channel Amp Modules      Power/Control Subsystem     120×80×40mm   \n",
       "\n",
       "    Qty  Unit Volume (L)  Total Volume (L)  \n",
       "2     1          200.000           200.000  \n",
       "37    1           40.000            40.000  \n",
       "19    1           24.000            24.000  \n",
       "28    1            6.000             6.000  \n",
       "10    1            4.500             4.500  \n",
       "17    1            4.500             4.500  \n",
       "32    1            3.528             3.528  \n",
       "26    1            3.000             3.000  \n",
       "12    1            2.553             2.553  \n",
       "0     2            1.216             2.432  \n",
       "3     1            2.032             2.032  \n",
       "4     1            1.696             1.696  \n",
       "7     1            1.696             1.696  \n",
       "11    1            1.562             1.562  \n",
       "34    4            0.384             1.536  "
      ]
     },
     "metadata": {},
     "output_type": "display_data"
    },
    {
     "name": "stdout",
     "output_type": "stream",
     "text": [
      "\n",
      "📦 Total Component Volume: 307.8 Liters\n",
      "\n",
      "📏 System Envelope Requirements:\n",
      "----------------------------------------\n",
      "  Frame Envelope: 500×500×800mm\n",
      "  Frame Volume: 0.200 m³\n",
      "\n",
      "🔲 Recommended Clearances:\n",
      "----------------------------------------\n",
      "  Service Access: 300mm\n",
      "  Thermal Clearance: 150mm\n",
      "  Cable Management: 100mm\n",
      "  Ventilation: 200mm\n",
      "\n",
      "  Minimum Room Footprint: 1.1×1.1m\n",
      "  Minimum Ceiling Height: 1.1m\n"
     ]
    },
    {
     "data": {
      "application/vnd.plotly.v1+json": {
       "config": {
        "plotlyServerURL": "https://plot.ly"
       },
       "data": [
        {
         "color": "lightblue",
         "i": [
          0,
          1,
          2,
          3,
          4,
          5,
          6,
          7,
          0,
          1,
          2,
          3
         ],
         "j": [
          1,
          2,
          3,
          0,
          5,
          6,
          7,
          4,
          4,
          5,
          6,
          7
         ],
         "k": [
          2,
          3,
          0,
          1,
          6,
          7,
          4,
          5,
          5,
          6,
          7,
          4
         ],
         "name": "System Envelope",
         "opacity": 0.3,
         "type": "mesh3d",
         "x": [
          0,
          500,
          500,
          0,
          0,
          500,
          500,
          0
         ],
         "y": [
          0,
          0,
          500,
          500,
          0,
          0,
          500,
          500
         ],
         "z": [
          0,
          0,
          0,
          0,
          800,
          800,
          800,
          800
         ]
        }
       ],
       "layout": {
        "height": 600,
        "scene": {
         "aspectmode": "data",
         "xaxis": {
          "title": {
           "text": "Length (mm)"
          }
         },
         "yaxis": {
          "title": {
           "text": "Width (mm)"
          }
         },
         "zaxis": {
          "title": {
           "text": "Height (mm)"
          }
         }
        },
        "template": {
         "data": {
          "bar": [
           {
            "error_x": {
             "color": "#2a3f5f"
            },
            "error_y": {
             "color": "#2a3f5f"
            },
            "marker": {
             "line": {
              "color": "#E5ECF6",
              "width": 0.5
             },
             "pattern": {
              "fillmode": "overlay",
              "size": 10,
              "solidity": 0.2
             }
            },
            "type": "bar"
           }
          ],
          "barpolar": [
           {
            "marker": {
             "line": {
              "color": "#E5ECF6",
              "width": 0.5
             },
             "pattern": {
              "fillmode": "overlay",
              "size": 10,
              "solidity": 0.2
             }
            },
            "type": "barpolar"
           }
          ],
          "carpet": [
           {
            "aaxis": {
             "endlinecolor": "#2a3f5f",
             "gridcolor": "white",
             "linecolor": "white",
             "minorgridcolor": "white",
             "startlinecolor": "#2a3f5f"
            },
            "baxis": {
             "endlinecolor": "#2a3f5f",
             "gridcolor": "white",
             "linecolor": "white",
             "minorgridcolor": "white",
             "startlinecolor": "#2a3f5f"
            },
            "type": "carpet"
           }
          ],
          "choropleth": [
           {
            "colorbar": {
             "outlinewidth": 0,
             "ticks": ""
            },
            "type": "choropleth"
           }
          ],
          "contour": [
           {
            "colorbar": {
             "outlinewidth": 0,
             "ticks": ""
            },
            "colorscale": [
             [
              0,
              "#0d0887"
             ],
             [
              0.1111111111111111,
              "#46039f"
             ],
             [
              0.2222222222222222,
              "#7201a8"
             ],
             [
              0.3333333333333333,
              "#9c179e"
             ],
             [
              0.4444444444444444,
              "#bd3786"
             ],
             [
              0.5555555555555556,
              "#d8576b"
             ],
             [
              0.6666666666666666,
              "#ed7953"
             ],
             [
              0.7777777777777778,
              "#fb9f3a"
             ],
             [
              0.8888888888888888,
              "#fdca26"
             ],
             [
              1,
              "#f0f921"
             ]
            ],
            "type": "contour"
           }
          ],
          "contourcarpet": [
           {
            "colorbar": {
             "outlinewidth": 0,
             "ticks": ""
            },
            "type": "contourcarpet"
           }
          ],
          "heatmap": [
           {
            "colorbar": {
             "outlinewidth": 0,
             "ticks": ""
            },
            "colorscale": [
             [
              0,
              "#0d0887"
             ],
             [
              0.1111111111111111,
              "#46039f"
             ],
             [
              0.2222222222222222,
              "#7201a8"
             ],
             [
              0.3333333333333333,
              "#9c179e"
             ],
             [
              0.4444444444444444,
              "#bd3786"
             ],
             [
              0.5555555555555556,
              "#d8576b"
             ],
             [
              0.6666666666666666,
              "#ed7953"
             ],
             [
              0.7777777777777778,
              "#fb9f3a"
             ],
             [
              0.8888888888888888,
              "#fdca26"
             ],
             [
              1,
              "#f0f921"
             ]
            ],
            "type": "heatmap"
           }
          ],
          "histogram": [
           {
            "marker": {
             "pattern": {
              "fillmode": "overlay",
              "size": 10,
              "solidity": 0.2
             }
            },
            "type": "histogram"
           }
          ],
          "histogram2d": [
           {
            "colorbar": {
             "outlinewidth": 0,
             "ticks": ""
            },
            "colorscale": [
             [
              0,
              "#0d0887"
             ],
             [
              0.1111111111111111,
              "#46039f"
             ],
             [
              0.2222222222222222,
              "#7201a8"
             ],
             [
              0.3333333333333333,
              "#9c179e"
             ],
             [
              0.4444444444444444,
              "#bd3786"
             ],
             [
              0.5555555555555556,
              "#d8576b"
             ],
             [
              0.6666666666666666,
              "#ed7953"
             ],
             [
              0.7777777777777778,
              "#fb9f3a"
             ],
             [
              0.8888888888888888,
              "#fdca26"
             ],
             [
              1,
              "#f0f921"
             ]
            ],
            "type": "histogram2d"
           }
          ],
          "histogram2dcontour": [
           {
            "colorbar": {
             "outlinewidth": 0,
             "ticks": ""
            },
            "colorscale": [
             [
              0,
              "#0d0887"
             ],
             [
              0.1111111111111111,
              "#46039f"
             ],
             [
              0.2222222222222222,
              "#7201a8"
             ],
             [
              0.3333333333333333,
              "#9c179e"
             ],
             [
              0.4444444444444444,
              "#bd3786"
             ],
             [
              0.5555555555555556,
              "#d8576b"
             ],
             [
              0.6666666666666666,
              "#ed7953"
             ],
             [
              0.7777777777777778,
              "#fb9f3a"
             ],
             [
              0.8888888888888888,
              "#fdca26"
             ],
             [
              1,
              "#f0f921"
             ]
            ],
            "type": "histogram2dcontour"
           }
          ],
          "mesh3d": [
           {
            "colorbar": {
             "outlinewidth": 0,
             "ticks": ""
            },
            "type": "mesh3d"
           }
          ],
          "parcoords": [
           {
            "line": {
             "colorbar": {
              "outlinewidth": 0,
              "ticks": ""
             }
            },
            "type": "parcoords"
           }
          ],
          "pie": [
           {
            "automargin": true,
            "type": "pie"
           }
          ],
          "scatter": [
           {
            "fillpattern": {
             "fillmode": "overlay",
             "size": 10,
             "solidity": 0.2
            },
            "type": "scatter"
           }
          ],
          "scatter3d": [
           {
            "line": {
             "colorbar": {
              "outlinewidth": 0,
              "ticks": ""
             }
            },
            "marker": {
             "colorbar": {
              "outlinewidth": 0,
              "ticks": ""
             }
            },
            "type": "scatter3d"
           }
          ],
          "scattercarpet": [
           {
            "marker": {
             "colorbar": {
              "outlinewidth": 0,
              "ticks": ""
             }
            },
            "type": "scattercarpet"
           }
          ],
          "scattergeo": [
           {
            "marker": {
             "colorbar": {
              "outlinewidth": 0,
              "ticks": ""
             }
            },
            "type": "scattergeo"
           }
          ],
          "scattergl": [
           {
            "marker": {
             "colorbar": {
              "outlinewidth": 0,
              "ticks": ""
             }
            },
            "type": "scattergl"
           }
          ],
          "scattermap": [
           {
            "marker": {
             "colorbar": {
              "outlinewidth": 0,
              "ticks": ""
             }
            },
            "type": "scattermap"
           }
          ],
          "scattermapbox": [
           {
            "marker": {
             "colorbar": {
              "outlinewidth": 0,
              "ticks": ""
             }
            },
            "type": "scattermapbox"
           }
          ],
          "scatterpolar": [
           {
            "marker": {
             "colorbar": {
              "outlinewidth": 0,
              "ticks": ""
             }
            },
            "type": "scatterpolar"
           }
          ],
          "scatterpolargl": [
           {
            "marker": {
             "colorbar": {
              "outlinewidth": 0,
              "ticks": ""
             }
            },
            "type": "scatterpolargl"
           }
          ],
          "scatterternary": [
           {
            "marker": {
             "colorbar": {
              "outlinewidth": 0,
              "ticks": ""
             }
            },
            "type": "scatterternary"
           }
          ],
          "surface": [
           {
            "colorbar": {
             "outlinewidth": 0,
             "ticks": ""
            },
            "colorscale": [
             [
              0,
              "#0d0887"
             ],
             [
              0.1111111111111111,
              "#46039f"
             ],
             [
              0.2222222222222222,
              "#7201a8"
             ],
             [
              0.3333333333333333,
              "#9c179e"
             ],
             [
              0.4444444444444444,
              "#bd3786"
             ],
             [
              0.5555555555555556,
              "#d8576b"
             ],
             [
              0.6666666666666666,
              "#ed7953"
             ],
             [
              0.7777777777777778,
              "#fb9f3a"
             ],
             [
              0.8888888888888888,
              "#fdca26"
             ],
             [
              1,
              "#f0f921"
             ]
            ],
            "type": "surface"
           }
          ],
          "table": [
           {
            "cells": {
             "fill": {
              "color": "#EBF0F8"
             },
             "line": {
              "color": "white"
             }
            },
            "header": {
             "fill": {
              "color": "#C8D4E3"
             },
             "line": {
              "color": "white"
             }
            },
            "type": "table"
           }
          ]
         },
         "layout": {
          "annotationdefaults": {
           "arrowcolor": "#2a3f5f",
           "arrowhead": 0,
           "arrowwidth": 1
          },
          "autotypenumbers": "strict",
          "coloraxis": {
           "colorbar": {
            "outlinewidth": 0,
            "ticks": ""
           }
          },
          "colorscale": {
           "diverging": [
            [
             0,
             "#8e0152"
            ],
            [
             0.1,
             "#c51b7d"
            ],
            [
             0.2,
             "#de77ae"
            ],
            [
             0.3,
             "#f1b6da"
            ],
            [
             0.4,
             "#fde0ef"
            ],
            [
             0.5,
             "#f7f7f7"
            ],
            [
             0.6,
             "#e6f5d0"
            ],
            [
             0.7,
             "#b8e186"
            ],
            [
             0.8,
             "#7fbc41"
            ],
            [
             0.9,
             "#4d9221"
            ],
            [
             1,
             "#276419"
            ]
           ],
           "sequential": [
            [
             0,
             "#0d0887"
            ],
            [
             0.1111111111111111,
             "#46039f"
            ],
            [
             0.2222222222222222,
             "#7201a8"
            ],
            [
             0.3333333333333333,
             "#9c179e"
            ],
            [
             0.4444444444444444,
             "#bd3786"
            ],
            [
             0.5555555555555556,
             "#d8576b"
            ],
            [
             0.6666666666666666,
             "#ed7953"
            ],
            [
             0.7777777777777778,
             "#fb9f3a"
            ],
            [
             0.8888888888888888,
             "#fdca26"
            ],
            [
             1,
             "#f0f921"
            ]
           ],
           "sequentialminus": [
            [
             0,
             "#0d0887"
            ],
            [
             0.1111111111111111,
             "#46039f"
            ],
            [
             0.2222222222222222,
             "#7201a8"
            ],
            [
             0.3333333333333333,
             "#9c179e"
            ],
            [
             0.4444444444444444,
             "#bd3786"
            ],
            [
             0.5555555555555556,
             "#d8576b"
            ],
            [
             0.6666666666666666,
             "#ed7953"
            ],
            [
             0.7777777777777778,
             "#fb9f3a"
            ],
            [
             0.8888888888888888,
             "#fdca26"
            ],
            [
             1,
             "#f0f921"
            ]
           ]
          },
          "colorway": [
           "#636efa",
           "#EF553B",
           "#00cc96",
           "#ab63fa",
           "#FFA15A",
           "#19d3f3",
           "#FF6692",
           "#B6E880",
           "#FF97FF",
           "#FECB52"
          ],
          "font": {
           "color": "#2a3f5f"
          },
          "geo": {
           "bgcolor": "white",
           "lakecolor": "white",
           "landcolor": "#E5ECF6",
           "showlakes": true,
           "showland": true,
           "subunitcolor": "white"
          },
          "hoverlabel": {
           "align": "left"
          },
          "hovermode": "closest",
          "mapbox": {
           "style": "light"
          },
          "paper_bgcolor": "white",
          "plot_bgcolor": "#E5ECF6",
          "polar": {
           "angularaxis": {
            "gridcolor": "white",
            "linecolor": "white",
            "ticks": ""
           },
           "bgcolor": "#E5ECF6",
           "radialaxis": {
            "gridcolor": "white",
            "linecolor": "white",
            "ticks": ""
           }
          },
          "scene": {
           "xaxis": {
            "backgroundcolor": "#E5ECF6",
            "gridcolor": "white",
            "gridwidth": 2,
            "linecolor": "white",
            "showbackground": true,
            "ticks": "",
            "zerolinecolor": "white"
           },
           "yaxis": {
            "backgroundcolor": "#E5ECF6",
            "gridcolor": "white",
            "gridwidth": 2,
            "linecolor": "white",
            "showbackground": true,
            "ticks": "",
            "zerolinecolor": "white"
           },
           "zaxis": {
            "backgroundcolor": "#E5ECF6",
            "gridcolor": "white",
            "gridwidth": 2,
            "linecolor": "white",
            "showbackground": true,
            "ticks": "",
            "zerolinecolor": "white"
           }
          },
          "shapedefaults": {
           "line": {
            "color": "#2a3f5f"
           }
          },
          "ternary": {
           "aaxis": {
            "gridcolor": "white",
            "linecolor": "white",
            "ticks": ""
           },
           "baxis": {
            "gridcolor": "white",
            "linecolor": "white",
            "ticks": ""
           },
           "bgcolor": "#E5ECF6",
           "caxis": {
            "gridcolor": "white",
            "linecolor": "white",
            "ticks": ""
           }
          },
          "title": {
           "x": 0.05
          },
          "xaxis": {
           "automargin": true,
           "gridcolor": "white",
           "linecolor": "white",
           "ticks": "",
           "title": {
            "standoff": 15
           },
           "zerolinecolor": "white",
           "zerolinewidth": 2
          },
          "yaxis": {
           "automargin": true,
           "gridcolor": "white",
           "linecolor": "white",
           "ticks": "",
           "title": {
            "standoff": 15
           },
           "zerolinecolor": "white",
           "zerolinewidth": 2
          }
         }
        },
        "title": {
         "text": "System Envelope Visualization"
        }
       }
      },
      "image/png": "[encoded data removed]"
     },
     "metadata": {},
     "output_type": "display_data"
    }
   ],
   "source": [
    "def comprehensive_dimensional_analysis():\n",
    "    \"\"\"Complete dimensional analysis with volume calculations and spatial planning\"\"\"\n",
    "    \n",
    "    print(\"🔧 COMPREHENSIVE DIMENSIONAL ANALYSIS\")\n",
    "    print(\"=\" * 80)\n",
    "    \n",
    "    # 1. Component Dimensions Summary\n",
    "    dimension_data = []\n",
    "    total_volume = 0\n",
    "    \n",
    "    for comp in registry.components:\n",
    "        if comp.tech_specs.dimensions:\n",
    "            dims = comp.tech_specs.dimensions\n",
    "            \n",
    "            # Calculate volume based on available dimensions\n",
    "            volume = 0\n",
    "            dim_str = \"\"\n",
    "            \n",
    "            if 'L' in dims and 'W' in dims and 'H' in dims:\n",
    "                volume = dims['L'] * dims['W'] * dims['H'] / 1e6  # Convert to liters\n",
    "                dim_str = f\"{dims['L']}×{dims['W']}×{dims['H']}mm\"\n",
    "            elif 'D' in dims and 'H' in dims:\n",
    "                volume = 3.14159 * (dims['D']/2)**2 * dims['H'] / 1e6  # Cylinder\n",
    "                dim_str = f\"Ø{dims['D']}×{dims['H']}mm\"\n",
    "            elif 'D' in dims and 'L' in dims:\n",
    "                volume = 3.14159 * (dims['D']/2)**2 * dims['L'] / 1e6\n",
    "                dim_str = f\"Ø{dims['D']}×{dims['L']}mm\"\n",
    "            elif 'D_outer' in dims and 'D_inner' in dims and 'H' in dims:\n",
    "                # Hollow cylinder\n",
    "                volume = 3.14159 * ((dims['D_outer']/2)**2 - (dims['D_inner']/2)**2) * dims['H'] / 1e6\n",
    "                dim_str = f\"Ø{dims['D_outer']}/{dims['D_inner']}×{dims['H']}mm\"\n",
    "            \n",
    "            if volume > 0:\n",
    "                total_volume += volume * comp.quantity\n",
    "                dimension_data.append({\n",
    "                    'Component': comp.name,\n",
    "                    'Category': comp.category.value,\n",
    "                    'Dimensions': dim_str,\n",
    "                    'Qty': comp.quantity,\n",
    "                    'Unit Volume (L)': round(volume, 3),\n",
    "                    'Total Volume (L)': round(volume * comp.quantity, 3)\n",
    "                })\n",
    "    \n",
    "    # Display table of significant components\n",
    "    if dimension_data:\n",
    "        df = pd.DataFrame(dimension_data)\n",
    "        df = df.sort_values('Total Volume (L)', ascending=False)\n",
    "        print(\"\\n📐 Components by Volume (Top 15):\")\n",
    "        display(df.head(15))\n",
    "        print(f\"\\n📦 Total Component Volume: {total_volume:.1f} Liters\")\n",
    "    \n",
    "    # 2. System Envelope Analysis\n",
    "    print(\"\\n📏 System Envelope Requirements:\")\n",
    "    print(\"-\" * 40)\n",
    "    \n",
    "    # Find maximum dimensions\n",
    "    max_envelope = {'L': 0, 'W': 0, 'H': 0}\n",
    "    frame_components = []\n",
    "    \n",
    "    for comp in registry.components:\n",
    "        if comp.category == ComponentCategory.FRAME and comp.tech_specs.dimensions:\n",
    "            dims = comp.tech_specs.dimensions\n",
    "            frame_components.append(comp)\n",
    "            for key in ['L', 'W', 'H']:\n",
    "                if key in dims:\n",
    "                    max_envelope[key] = max(max_envelope[key], dims[key])\n",
    "    \n",
    "    print(f\"  Frame Envelope: {max_envelope['L']}×{max_envelope['W']}×{max_envelope['H']}mm\")\n",
    "    print(f\"  Frame Volume: {max_envelope['L']*max_envelope['W']*max_envelope['H']/1e9:.3f} m³\")\n",
    "    \n",
    "    # 3. Clearance Requirements\n",
    "    print(\"\\n🔲 Recommended Clearances:\")\n",
    "    print(\"-\" * 40)\n",
    "    clearances = {\n",
    "        'Service Access': 300,  # mm\n",
    "        'Thermal Clearance': 150,\n",
    "        'Cable Management': 100,\n",
    "        'Ventilation': 200\n",
    "    }\n",
    "    \n",
    "    for purpose, clearance in clearances.items():\n",
    "        print(f\"  {purpose}: {clearance}mm\")\n",
    "    \n",
    "    total_clearance = max(clearances.values())\n",
    "    final_envelope = {\n",
    "        'L': max_envelope['L'] + 2*total_clearance,\n",
    "        'W': max_envelope['W'] + 2*total_clearance,\n",
    "        'H': max_envelope['H'] + total_clearance  # Top clearance only\n",
    "    }\n",
    "    \n",
    "    print(f\"\\n  Minimum Room Footprint: {final_envelope['L']/1000:.1f}×{final_envelope['W']/1000:.1f}m\")\n",
    "    print(f\"  Minimum Ceiling Height: {final_envelope['H']/1000:.1f}m\")\n",
    "    \n",
    "    # 4. Visualization\n",
    "    fig = go.Figure()\n",
    "    \n",
    "    # Add 3D box for system envelope\n",
    "    fig.add_trace(go.Mesh3d(\n",
    "        x=[0, max_envelope['L'], max_envelope['L'], 0, 0, max_envelope['L'], max_envelope['L'], 0],\n",
    "        y=[0, 0, max_envelope['W'], max_envelope['W'], 0, 0, max_envelope['W'], max_envelope['W']],\n",
    "        z=[0, 0, 0, 0, max_envelope['H'], max_envelope['H'], max_envelope['H'], max_envelope['H']],\n",
    "        i=[0, 1, 2, 3, 4, 5, 6, 7, 0, 1, 2, 3],\n",
    "        j=[1, 2, 3, 0, 5, 6, 7, 4, 4, 5, 6, 7],\n",
    "        k=[2, 3, 0, 1, 6, 7, 4, 5, 5, 6, 7, 4],\n",
    "        opacity=0.3,\n",
    "        color='lightblue',\n",
    "        name='System Envelope'\n",
    "    ))\n",
    "    \n",
    "    fig.update_layout(\n",
    "        title=\"System Envelope Visualization\",\n",
    "        scene=dict(\n",
    "            xaxis_title=\"Length (mm)\",\n",
    "            yaxis_title=\"Width (mm)\",\n",
    "            zaxis_title=\"Height (mm)\",\n",
    "            aspectmode='data'\n",
    "        ),\n",
    "        height=600\n",
    "    )\n",
    "    fig.show()\n",
    "    \n",
    "    return dimension_data\n",
    "\n",
    "# Run the analysis\n",
    "dim_data = comprehensive_dimensional_analysis()"
   ]
  },
  {
   "cell_type": "markdown",
   "metadata": {},
   "source": [
    "## Weight Distribution and Center of Mass Analysis"
   ]
  },
  {
   "cell_type": "code",
   "execution_count": 6,
   "metadata": {},
   "outputs": [
    {
     "name": "stdout",
     "output_type": "stream",
     "text": [
      "⚖️ WEIGHT DISTRIBUTION ANALYSIS\n",
      "================================================================================\n",
      "\n",
      "📊 Weight by Subsystem:\n",
      "----------------------------------------\n",
      "  Frame Subsystem                   45.99 kg ( 34.7%)\n",
      "  Heated Bed Subsystem              20.02 kg ( 15.1%)\n",
      "  Acoustic Cylinder Subsystem       18.39 kg ( 13.9%)\n",
      "  Crucible Subsystem                28.96 kg ( 21.8%)\n",
      "  Power/Control Subsystem           19.34 kg ( 14.6%)\n",
      "\n",
      "  TOTAL                            132.70 kg\n",
      "\n",
      "🏋️ Top 10 Heaviest Components:\n",
      "----------------------------------------\n"
     ]
    },
    {
     "data": {
      "text/html": [
       "<div>\n",
       "<style scoped>\n",
       "    .dataframe tbody tr th:only-of-type {\n",
       "        vertical-align: middle;\n",
       "    }\n",
       "\n",
       "    .dataframe tbody tr th {\n",
       "        vertical-align: top;\n",
       "    }\n",
       "\n",
       "    .dataframe thead th {\n",
       "        text-align: right;\n",
       "    }\n",
       "</style>\n",
       "<table border=\"1\" class=\"dataframe\">\n",
       "  <thead>\n",
       "    <tr style=\"text-align: right;\">\n",
       "      <th></th>\n",
       "      <th>Component</th>\n",
       "      <th>Category</th>\n",
       "      <th>Unit Weight (kg)</th>\n",
       "      <th>Qty</th>\n",
       "      <th>Total Weight (kg)</th>\n",
       "    </tr>\n",
       "  </thead>\n",
       "  <tbody>\n",
       "    <tr>\n",
       "      <th>2</th>\n",
       "      <td>Frame</td>\n",
       "      <td>Frame Subsystem</td>\n",
       "      <td>25.0</td>\n",
       "      <td>1</td>\n",
       "      <td>25.0</td>\n",
       "    </tr>\n",
       "    <tr>\n",
       "      <th>23</th>\n",
       "      <td>Induction Heater</td>\n",
       "      <td>Crucible Subsystem</td>\n",
       "      <td>12.0</td>\n",
       "      <td>1</td>\n",
       "      <td>12.0</td>\n",
       "    </tr>\n",
       "    <tr>\n",
       "      <th>12</th>\n",
       "      <td>Heated Bed Assembly</td>\n",
       "      <td>Heated Bed Subsystem</td>\n",
       "      <td>12.0</td>\n",
       "      <td>1</td>\n",
       "      <td>12.0</td>\n",
       "    </tr>\n",
       "    <tr>\n",
       "      <th>3</th>\n",
       "      <td>Baseplate</td>\n",
       "      <td>Frame Subsystem</td>\n",
       "      <td>8.5</td>\n",
       "      <td>1</td>\n",
       "      <td>8.5</td>\n",
       "    </tr>\n",
       "    <tr>\n",
       "      <th>17</th>\n",
       "      <td>Acoustic Cylinder</td>\n",
       "      <td>Acoustic Cylinder Subsystem</td>\n",
       "      <td>8.0</td>\n",
       "      <td>1</td>\n",
       "      <td>8.0</td>\n",
       "    </tr>\n",
       "    <tr>\n",
       "      <th>38</th>\n",
       "      <td>10kW PSU</td>\n",
       "      <td>Power/Control Subsystem</td>\n",
       "      <td>7.5</td>\n",
       "      <td>1</td>\n",
       "      <td>7.5</td>\n",
       "    </tr>\n",
       "    <tr>\n",
       "      <th>48</th>\n",
       "      <td>Control Enclosure</td>\n",
       "      <td>Power/Control Subsystem</td>\n",
       "      <td>5.0</td>\n",
       "      <td>1</td>\n",
       "      <td>5.0</td>\n",
       "    </tr>\n",
       "    <tr>\n",
       "      <th>13</th>\n",
       "      <td>Conductive Block</td>\n",
       "      <td>Heated Bed Subsystem</td>\n",
       "      <td>5.0</td>\n",
       "      <td>1</td>\n",
       "      <td>5.0</td>\n",
       "    </tr>\n",
       "    <tr>\n",
       "      <th>7</th>\n",
       "      <td>Build Volume</td>\n",
       "      <td>Frame Subsystem</td>\n",
       "      <td>5.0</td>\n",
       "      <td>1</td>\n",
       "      <td>5.0</td>\n",
       "    </tr>\n",
       "    <tr>\n",
       "      <th>32</th>\n",
       "      <td>Material Delivery System</td>\n",
       "      <td>Crucible Subsystem</td>\n",
       "      <td>4.0</td>\n",
       "      <td>1</td>\n",
       "      <td>4.0</td>\n",
       "    </tr>\n",
       "  </tbody>\n",
       "</table>\n",
       "</div>"
      ],
      "text/plain": [
       "                   Component                     Category  Unit Weight (kg)  \\\n",
       "2                      Frame              Frame Subsystem              25.0   \n",
       "23          Induction Heater           Crucible Subsystem              12.0   \n",
       "12       Heated Bed Assembly         Heated Bed Subsystem              12.0   \n",
       "3                  Baseplate              Frame Subsystem               8.5   \n",
       "17         Acoustic Cylinder  Acoustic Cylinder Subsystem               8.0   \n",
       "38                  10kW PSU      Power/Control Subsystem               7.5   \n",
       "48         Control Enclosure      Power/Control Subsystem               5.0   \n",
       "13          Conductive Block         Heated Bed Subsystem               5.0   \n",
       "7               Build Volume              Frame Subsystem               5.0   \n",
       "32  Material Delivery System           Crucible Subsystem               4.0   \n",
       "\n",
       "    Qty  Total Weight (kg)  \n",
       "2     1               25.0  \n",
       "23    1               12.0  \n",
       "12    1               12.0  \n",
       "3     1                8.5  \n",
       "17    1                8.0  \n",
       "38    1                7.5  \n",
       "48    1                5.0  \n",
       "13    1                5.0  \n",
       "7     1                5.0  \n",
       "32    1                4.0  "
      ]
     },
     "metadata": {},
     "output_type": "display_data"
    },
    {
     "name": "stdout",
     "output_type": "stream",
     "text": [
      "\n",
      "📍 Center of Mass Estimation:\n",
      "----------------------------------------\n",
      "  Estimated COM Height: 312mm from base\n",
      "  Stability: STABLE\n"
     ]
    },
    {
     "data": {
      "application/vnd.plotly.v1+json": {
       "config": {
        "plotlyServerURL": "https://plot.ly"
       },
       "data": [
        {
         "hole": 0.3,
         "labels": [
          "Frame Subsystem",
          "Heated Bed Subsystem",
          "Acoustic Cylinder Subsystem",
          "Crucible Subsystem",
          "Power/Control Subsystem"
         ],
         "marker": {
          "colors": [
           "rgb(141,211,199)",
           "rgb(255,255,179)",
           "rgb(190,186,218)",
           "rgb(251,128,114)",
           "rgb(128,177,211)",
           "rgb(253,180,98)",
           "rgb(179,222,105)",
           "rgb(252,205,229)",
           "rgb(217,217,217)",
           "rgb(188,128,189)",
           "rgb(204,235,197)",
           "rgb(255,237,111)"
          ]
         },
         "type": "pie",
         "values": [
          45.99,
          20.02,
          18.39,
          28.96,
          19.34
         ]
        }
       ],
       "layout": {
        "height": 500,
        "template": {
         "data": {
          "bar": [
           {
            "error_x": {
             "color": "#2a3f5f"
            },
            "error_y": {
             "color": "#2a3f5f"
            },
            "marker": {
             "line": {
              "color": "#E5ECF6",
              "width": 0.5
             },
             "pattern": {
              "fillmode": "overlay",
              "size": 10,
              "solidity": 0.2
             }
            },
            "type": "bar"
           }
          ],
          "barpolar": [
           {
            "marker": {
             "line": {
              "color": "#E5ECF6",
              "width": 0.5
             },
             "pattern": {
              "fillmode": "overlay",
              "size": 10,
              "solidity": 0.2
             }
            },
            "type": "barpolar"
           }
          ],
          "carpet": [
           {
            "aaxis": {
             "endlinecolor": "#2a3f5f",
             "gridcolor": "white",
             "linecolor": "white",
             "minorgridcolor": "white",
             "startlinecolor": "#2a3f5f"
            },
            "baxis": {
             "endlinecolor": "#2a3f5f",
             "gridcolor": "white",
             "linecolor": "white",
             "minorgridcolor": "white",
             "startlinecolor": "#2a3f5f"
            },
            "type": "carpet"
           }
          ],
          "choropleth": [
           {
            "colorbar": {
             "outlinewidth": 0,
             "ticks": ""
            },
            "type": "choropleth"
           }
          ],
          "contour": [
           {
            "colorbar": {
             "outlinewidth": 0,
             "ticks": ""
            },
            "colorscale": [
             [
              0,
              "#0d0887"
             ],
             [
              0.1111111111111111,
              "#46039f"
             ],
             [
              0.2222222222222222,
              "#7201a8"
             ],
             [
              0.3333333333333333,
              "#9c179e"
             ],
             [
              0.4444444444444444,
              "#bd3786"
             ],
             [
              0.5555555555555556,
              "#d8576b"
             ],
             [
              0.6666666666666666,
              "#ed7953"
             ],
             [
              0.7777777777777778,
              "#fb9f3a"
             ],
             [
              0.8888888888888888,
              "#fdca26"
             ],
             [
              1,
              "#f0f921"
             ]
            ],
            "type": "contour"
           }
          ],
          "contourcarpet": [
           {
            "colorbar": {
             "outlinewidth": 0,
             "ticks": ""
            },
            "type": "contourcarpet"
           }
          ],
          "heatmap": [
           {
            "colorbar": {
             "outlinewidth": 0,
             "ticks": ""
            },
            "colorscale": [
             [
              0,
              "#0d0887"
             ],
             [
              0.1111111111111111,
              "#46039f"
             ],
             [
              0.2222222222222222,
              "#7201a8"
             ],
             [
              0.3333333333333333,
              "#9c179e"
             ],
             [
              0.4444444444444444,
              "#bd3786"
             ],
             [
              0.5555555555555556,
              "#d8576b"
             ],
             [
              0.6666666666666666,
              "#ed7953"
             ],
             [
              0.7777777777777778,
              "#fb9f3a"
             ],
             [
              0.8888888888888888,
              "#fdca26"
             ],
             [
              1,
              "#f0f921"
             ]
            ],
            "type": "heatmap"
           }
          ],
          "histogram": [
           {
            "marker": {
             "pattern": {
              "fillmode": "overlay",
              "size": 10,
              "solidity": 0.2
             }
            },
            "type": "histogram"
           }
          ],
          "histogram2d": [
           {
            "colorbar": {
             "outlinewidth": 0,
             "ticks": ""
            },
            "colorscale": [
             [
              0,
              "#0d0887"
             ],
             [
              0.1111111111111111,
              "#46039f"
             ],
             [
              0.2222222222222222,
              "#7201a8"
             ],
             [
              0.3333333333333333,
              "#9c179e"
             ],
             [
              0.4444444444444444,
              "#bd3786"
             ],
             [
              0.5555555555555556,
              "#d8576b"
             ],
             [
              0.6666666666666666,
              "#ed7953"
             ],
             [
              0.7777777777777778,
              "#fb9f3a"
             ],
             [
              0.8888888888888888,
              "#fdca26"
             ],
             [
              1,
              "#f0f921"
             ]
            ],
            "type": "histogram2d"
           }
          ],
          "histogram2dcontour": [
           {
            "colorbar": {
             "outlinewidth": 0,
             "ticks": ""
            },
            "colorscale": [
             [
              0,
              "#0d0887"
             ],
             [
              0.1111111111111111,
              "#46039f"
             ],
             [
              0.2222222222222222,
              "#7201a8"
             ],
             [
              0.3333333333333333,
              "#9c179e"
             ],
             [
              0.4444444444444444,
              "#bd3786"
             ],
             [
              0.5555555555555556,
              "#d8576b"
             ],
             [
              0.6666666666666666,
              "#ed7953"
             ],
             [
              0.7777777777777778,
              "#fb9f3a"
             ],
             [
              0.8888888888888888,
              "#fdca26"
             ],
             [
              1,
              "#f0f921"
             ]
            ],
            "type": "histogram2dcontour"
           }
          ],
          "mesh3d": [
           {
            "colorbar": {
             "outlinewidth": 0,
             "ticks": ""
            },
            "type": "mesh3d"
           }
          ],
          "parcoords": [
           {
            "line": {
             "colorbar": {
              "outlinewidth": 0,
              "ticks": ""
             }
            },
            "type": "parcoords"
           }
          ],
          "pie": [
           {
            "automargin": true,
            "type": "pie"
           }
          ],
          "scatter": [
           {
            "fillpattern": {
             "fillmode": "overlay",
             "size": 10,
             "solidity": 0.2
            },
            "type": "scatter"
           }
          ],
          "scatter3d": [
           {
            "line": {
             "colorbar": {
              "outlinewidth": 0,
              "ticks": ""
             }
            },
            "marker": {
             "colorbar": {
              "outlinewidth": 0,
              "ticks": ""
             }
            },
            "type": "scatter3d"
           }
          ],
          "scattercarpet": [
           {
            "marker": {
             "colorbar": {
              "outlinewidth": 0,
              "ticks": ""
             }
            },
            "type": "scattercarpet"
           }
          ],
          "scattergeo": [
           {
            "marker": {
             "colorbar": {
              "outlinewidth": 0,
              "ticks": ""
             }
            },
            "type": "scattergeo"
           }
          ],
          "scattergl": [
           {
            "marker": {
             "colorbar": {
              "outlinewidth": 0,
              "ticks": ""
             }
            },
            "type": "scattergl"
           }
          ],
          "scattermap": [
           {
            "marker": {
             "colorbar": {
              "outlinewidth": 0,
              "ticks": ""
             }
            },
            "type": "scattermap"
           }
          ],
          "scattermapbox": [
           {
            "marker": {
             "colorbar": {
              "outlinewidth": 0,
              "ticks": ""
             }
            },
            "type": "scattermapbox"
           }
          ],
          "scatterpolar": [
           {
            "marker": {
             "colorbar": {
              "outlinewidth": 0,
              "ticks": ""
             }
            },
            "type": "scatterpolar"
           }
          ],
          "scatterpolargl": [
           {
            "marker": {
             "colorbar": {
              "outlinewidth": 0,
              "ticks": ""
             }
            },
            "type": "scatterpolargl"
           }
          ],
          "scatterternary": [
           {
            "marker": {
             "colorbar": {
              "outlinewidth": 0,
              "ticks": ""
             }
            },
            "type": "scatterternary"
           }
          ],
          "surface": [
           {
            "colorbar": {
             "outlinewidth": 0,
             "ticks": ""
            },
            "colorscale": [
             [
              0,
              "#0d0887"
             ],
             [
              0.1111111111111111,
              "#46039f"
             ],
             [
              0.2222222222222222,
              "#7201a8"
             ],
             [
              0.3333333333333333,
              "#9c179e"
             ],
             [
              0.4444444444444444,
              "#bd3786"
             ],
             [
              0.5555555555555556,
              "#d8576b"
             ],
             [
              0.6666666666666666,
              "#ed7953"
             ],
             [
              0.7777777777777778,
              "#fb9f3a"
             ],
             [
              0.8888888888888888,
              "#fdca26"
             ],
             [
              1,
              "#f0f921"
             ]
            ],
            "type": "surface"
           }
          ],
          "table": [
           {
            "cells": {
             "fill": {
              "color": "#EBF0F8"
             },
             "line": {
              "color": "white"
             }
            },
            "header": {
             "fill": {
              "color": "#C8D4E3"
             },
             "line": {
              "color": "white"
             }
            },
            "type": "table"
           }
          ]
         },
         "layout": {
          "annotationdefaults": {
           "arrowcolor": "#2a3f5f",
           "arrowhead": 0,
           "arrowwidth": 1
          },
          "autotypenumbers": "strict",
          "coloraxis": {
           "colorbar": {
            "outlinewidth": 0,
            "ticks": ""
           }
          },
          "colorscale": {
           "diverging": [
            [
             0,
             "#8e0152"
            ],
            [
             0.1,
             "#c51b7d"
            ],
            [
             0.2,
             "#de77ae"
            ],
            [
             0.3,
             "#f1b6da"
            ],
            [
             0.4,
             "#fde0ef"
            ],
            [
             0.5,
             "#f7f7f7"
            ],
            [
             0.6,
             "#e6f5d0"
            ],
            [
             0.7,
             "#b8e186"
            ],
            [
             0.8,
             "#7fbc41"
            ],
            [
             0.9,
             "#4d9221"
            ],
            [
             1,
             "#276419"
            ]
           ],
           "sequential": [
            [
             0,
             "#0d0887"
            ],
            [
             0.1111111111111111,
             "#46039f"
            ],
            [
             0.2222222222222222,
             "#7201a8"
            ],
            [
             0.3333333333333333,
             "#9c179e"
            ],
            [
             0.4444444444444444,
             "#bd3786"
            ],
            [
             0.5555555555555556,
             "#d8576b"
            ],
            [
             0.6666666666666666,
             "#ed7953"
            ],
            [
             0.7777777777777778,
             "#fb9f3a"
            ],
            [
             0.8888888888888888,
             "#fdca26"
            ],
            [
             1,
             "#f0f921"
            ]
           ],
           "sequentialminus": [
            [
             0,
             "#0d0887"
            ],
            [
             0.1111111111111111,
             "#46039f"
            ],
            [
             0.2222222222222222,
             "#7201a8"
            ],
            [
             0.3333333333333333,
             "#9c179e"
            ],
            [
             0.4444444444444444,
             "#bd3786"
            ],
            [
             0.5555555555555556,
             "#d8576b"
            ],
            [
             0.6666666666666666,
             "#ed7953"
            ],
            [
             0.7777777777777778,
             "#fb9f3a"
            ],
            [
             0.8888888888888888,
             "#fdca26"
            ],
            [
             1,
             "#f0f921"
            ]
           ]
          },
          "colorway": [
           "#636efa",
           "#EF553B",
           "#00cc96",
           "#ab63fa",
           "#FFA15A",
           "#19d3f3",
           "#FF6692",
           "#B6E880",
           "#FF97FF",
           "#FECB52"
          ],
          "font": {
           "color": "#2a3f5f"
          },
          "geo": {
           "bgcolor": "white",
           "lakecolor": "white",
           "landcolor": "#E5ECF6",
           "showlakes": true,
           "showland": true,
           "subunitcolor": "white"
          },
          "hoverlabel": {
           "align": "left"
          },
          "hovermode": "closest",
          "mapbox": {
           "style": "light"
          },
          "paper_bgcolor": "white",
          "plot_bgcolor": "#E5ECF6",
          "polar": {
           "angularaxis": {
            "gridcolor": "white",
            "linecolor": "white",
            "ticks": ""
           },
           "bgcolor": "#E5ECF6",
           "radialaxis": {
            "gridcolor": "white",
            "linecolor": "white",
            "ticks": ""
           }
          },
          "scene": {
           "xaxis": {
            "backgroundcolor": "#E5ECF6",
            "gridcolor": "white",
            "gridwidth": 2,
            "linecolor": "white",
            "showbackground": true,
            "ticks": "",
            "zerolinecolor": "white"
           },
           "yaxis": {
            "backgroundcolor": "#E5ECF6",
            "gridcolor": "white",
            "gridwidth": 2,
            "linecolor": "white",
            "showbackground": true,
            "ticks": "",
            "zerolinecolor": "white"
           },
           "zaxis": {
            "backgroundcolor": "#E5ECF6",
            "gridcolor": "white",
            "gridwidth": 2,
            "linecolor": "white",
            "showbackground": true,
            "ticks": "",
            "zerolinecolor": "white"
           }
          },
          "shapedefaults": {
           "line": {
            "color": "#2a3f5f"
           }
          },
          "ternary": {
           "aaxis": {
            "gridcolor": "white",
            "linecolor": "white",
            "ticks": ""
           },
           "baxis": {
            "gridcolor": "white",
            "linecolor": "white",
            "ticks": ""
           },
           "bgcolor": "#E5ECF6",
           "caxis": {
            "gridcolor": "white",
            "linecolor": "white",
            "ticks": ""
           }
          },
          "title": {
           "x": 0.05
          },
          "xaxis": {
           "automargin": true,
           "gridcolor": "white",
           "linecolor": "white",
           "ticks": "",
           "title": {
            "standoff": 15
           },
           "zerolinecolor": "white",
           "zerolinewidth": 2
          },
          "yaxis": {
           "automargin": true,
           "gridcolor": "white",
           "linecolor": "white",
           "ticks": "",
           "title": {
            "standoff": 15
           },
           "zerolinecolor": "white",
           "zerolinewidth": 2
          }
         }
        },
        "title": {
         "text": "Weight Distribution - Total: 132.7 kg"
        }
       }
      },
      "image/png": "[encoded data removed]"
     },
     "metadata": {},
     "output_type": "display_data"
    },
    {
     "name": "stdout",
     "output_type": "stream",
     "text": [
      "\n",
      "🚚 Transport & Handling:\n",
      "----------------------------------------\n",
      "  Total System Weight: 132.7 kg (292 lbs)\n",
      "  ⚠️ Requires: Pallet jack or forklift\n",
      "  ⚠️ Minimum 2-person lift for assembly\n",
      "  Recommended Crate Size: 1.2×1.2×1.0m\n",
      "  Shipping Class: Freight\n"
     ]
    }
   ],
   "source": [
    "def weight_and_com_analysis():\n",
    "    \"\"\"Analyze weight distribution and estimate center of mass\"\"\"\n",
    "    \n",
    "    print(\"⚖️ WEIGHT DISTRIBUTION ANALYSIS\")\n",
    "    print(\"=\" * 80)\n",
    "    \n",
    "    # 1. Weight by subsystem\n",
    "    weight_by_subsystem = {}\n",
    "    total_weight = 0\n",
    "    component_weights = []\n",
    "    \n",
    "    for comp in registry.components:\n",
    "        if comp.tech_specs.weight:\n",
    "            weight = comp.tech_specs.weight * comp.quantity\n",
    "            total_weight += weight\n",
    "            \n",
    "            category = comp.category.value\n",
    "            if category not in weight_by_subsystem:\n",
    "                weight_by_subsystem[category] = {'weight': 0, 'components': []}\n",
    "            \n",
    "            weight_by_subsystem[category]['weight'] += weight\n",
    "            weight_by_subsystem[category]['components'].append({\n",
    "                'name': comp.name,\n",
    "                'weight': weight\n",
    "            })\n",
    "            \n",
    "            component_weights.append({\n",
    "                'Component': comp.name,\n",
    "                'Category': category,\n",
    "                'Unit Weight (kg)': comp.tech_specs.weight,\n",
    "                'Qty': comp.quantity,\n",
    "                'Total Weight (kg)': weight\n",
    "            })\n",
    "    \n",
    "    # 2. Display weight breakdown\n",
    "    print(\"\\n📊 Weight by Subsystem:\")\n",
    "    print(\"-\" * 40)\n",
    "    \n",
    "    subsystem_summary = []\n",
    "    for subsystem, data in weight_by_subsystem.items():\n",
    "        percentage = (data['weight'] / total_weight * 100) if total_weight > 0 else 0\n",
    "        subsystem_summary.append({\n",
    "            'Subsystem': subsystem,\n",
    "            'Weight (kg)': round(data['weight'], 2),\n",
    "            'Percentage': f\"{percentage:.1f}%\",\n",
    "            'Components': len(data['components'])\n",
    "        })\n",
    "        print(f\"  {subsystem:30} {data['weight']:8.2f} kg ({percentage:5.1f}%)\")\n",
    "    \n",
    "    print(f\"\\n  {'TOTAL':30} {total_weight:8.2f} kg\")\n",
    "    \n",
    "    # 3. Heavy components list\n",
    "    print(\"\\n🏋️ Top 10 Heaviest Components:\")\n",
    "    print(\"-\" * 40)\n",
    "    \n",
    "    df_weights = pd.DataFrame(component_weights)\n",
    "    df_weights = df_weights.sort_values('Total Weight (kg)', ascending=False)\n",
    "    display(df_weights.head(10))\n",
    "    \n",
    "    # 4. Center of Mass Estimation (simplified)\n",
    "    print(\"\\n📍 Center of Mass Estimation:\")\n",
    "    print(\"-\" * 40)\n",
    "    \n",
    "    # Assume components are distributed in layers\n",
    "    z_positions = {\n",
    "        ComponentCategory.FRAME: 400,  # mm - middle height\n",
    "        ComponentCategory.HEATED_BED: 100,  # Bottom\n",
    "        ComponentCategory.ACOUSTIC: 300,  # Middle\n",
    "        ComponentCategory.CRUCIBLE: 500,  # Upper\n",
    "        ComponentCategory.POWER_CONTROL: 50  # Bottom (in enclosure)\n",
    "    }\n",
    "    \n",
    "    com_x, com_y, com_z = 0, 0, 0\n",
    "    moment_weight = 0\n",
    "    \n",
    "    for comp in registry.components:\n",
    "        if comp.tech_specs.weight:\n",
    "            weight = comp.tech_specs.weight * comp.quantity\n",
    "            z_pos = z_positions.get(comp.category, 250)\n",
    "            \n",
    "            # Assume centered in X-Y plane for now\n",
    "            com_z += weight * z_pos\n",
    "            moment_weight += weight\n",
    "    \n",
    "    if moment_weight > 0:\n",
    "        com_z = com_z / moment_weight\n",
    "        print(f\"  Estimated COM Height: {com_z:.0f}mm from base\")\n",
    "        print(f\"  Stability: {'STABLE' if com_z < 400 else 'CHECK REQUIRED'}\")\n",
    "    \n",
    "    # 5. Visualization\n",
    "    fig = go.Figure()\n",
    "    \n",
    "    # Pie chart of weight distribution\n",
    "    labels = [item['Subsystem'] for item in subsystem_summary]\n",
    "    values = [float(item['Weight (kg)']) for item in subsystem_summary]\n",
    "    \n",
    "    fig.add_trace(go.Pie(\n",
    "        labels=labels,\n",
    "        values=values,\n",
    "        hole=0.3,\n",
    "        marker=dict(colors=px.colors.qualitative.Set3)\n",
    "    ))\n",
    "    \n",
    "    fig.update_layout(\n",
    "        title=f\"Weight Distribution - Total: {total_weight:.1f} kg\",\n",
    "        height=500\n",
    "    )\n",
    "    fig.show()\n",
    "    \n",
    "    # 6. Transport considerations\n",
    "    print(\"\\n🚚 Transport & Handling:\")\n",
    "    print(\"-\" * 40)\n",
    "    print(f\"  Total System Weight: {total_weight:.1f} kg ({total_weight*2.2:.0f} lbs)\")\n",
    "    \n",
    "    if total_weight > 100:\n",
    "        print(f\"  ⚠️ Requires: Pallet jack or forklift\")\n",
    "        print(f\"  ⚠️ Minimum 2-person lift for assembly\")\n",
    "    elif total_weight > 50:\n",
    "        print(f\"  ⚠️ Requires: 2-person lift\")\n",
    "    \n",
    "    print(f\"  Recommended Crate Size: 1.2×1.2×1.0m\")\n",
    "    print(f\"  Shipping Class: Freight\")\n",
    "    \n",
    "    return df_weights\n",
    "\n",
    "# Run the analysis\n",
    "weight_df = weight_and_com_analysis()"
   ]
  },
  {
   "cell_type": "markdown",
   "metadata": {},
   "source": [
    "## Universal Property Calculator and Analyzer"
   ]
  },
  {
   "cell_type": "code",
   "execution_count": 7,
   "metadata": {},
   "outputs": [
    {
     "name": "stdout",
     "output_type": "stream",
     "text": [
      "Running comprehensive property analysis...\n",
      "\n",
      "🔬 COMPREHENSIVE PROPERTY ANALYSIS\n",
      "================================================================================\n",
      "  Power Consumption (W)                 14595.50\n",
      "  Total Weight (kg)                       132.70\n",
      "  Max Temperature (°C)                   2000.00\n",
      "  Min Operating Temp (°C)                   0.00\n",
      "  Total Cost ($)                        28766.00\n",
      "  Efficiency (avg %)                      604.50\n",
      "  Total Thermal Dissipation (W)          2130.67\n",
      "\n",
      "🔨 MATERIAL USAGE ANALYSIS\n",
      "================================================================================\n",
      "\n",
      "📦 Materials Used:\n",
      "  Aluminum                         8 components\n",
      "  FR4                              4 components\n",
      "  Type                             2 components\n",
      "  316                              2 components\n",
      "  DuPont                           1 components\n",
      "  Zinc-plated                      1 components\n",
      "  Steel                            1 components\n",
      "  316 Stainless Steel              1 components\n",
      "  Acrylic/Polycarbonate            1 components\n",
      "  Insulated                        1 components\n",
      "  Ceramic fiber composite          1 components\n",
      "  Silicone/Viton                   1 components\n",
      "  Copper/Aluminum composite        1 components\n",
      "  Part                             1 components\n",
      "  Ceramic                          1 components\n",
      "  PZT                              1 components\n",
      "  Nylon                            1 components\n",
      "  PETG                             1 components\n",
      "  Machined                         1 components\n",
      "  PLA                              1 components\n",
      "  Graphite                         1 components\n",
      "  Copper                           1 components\n",
      "  Stainless Steel                  1 components\n",
      "  PTFE/Stainless Steel             1 components\n",
      "  Moldable Ceramic                 1 components\n",
      "  Silicone                         1 components\n",
      "  Sheet Metal                      1 components\n",
      "\n",
      "🏭 Manufacturing Processes:\n",
      "  CNC Machining                    7 components\n",
      "  PCB Fabrication                  4 components\n",
      "  Welding                          2 components\n",
      "  3D Printing/Machining            1 components\n",
      "  Precision Drilling               1 components\n",
      "  Metal Fabrication                1 components\n",
      "\n",
      "📡 FREQUENCY DOMAIN ANALYSIS\n",
      "================================================================================\n"
     ]
    },
    {
     "data": {
      "text/html": [
       "<div>\n",
       "<style scoped>\n",
       "    .dataframe tbody tr th:only-of-type {\n",
       "        vertical-align: middle;\n",
       "    }\n",
       "\n",
       "    .dataframe tbody tr th {\n",
       "        vertical-align: top;\n",
       "    }\n",
       "\n",
       "    .dataframe thead th {\n",
       "        text-align: right;\n",
       "    }\n",
       "</style>\n",
       "<table border=\"1\" class=\"dataframe\">\n",
       "  <thead>\n",
       "    <tr style=\"text-align: right;\">\n",
       "      <th></th>\n",
       "      <th>Component</th>\n",
       "      <th>Frequency (Hz)</th>\n",
       "      <th>Frequency (kHz)</th>\n",
       "      <th>Category</th>\n",
       "    </tr>\n",
       "  </thead>\n",
       "  <tbody>\n",
       "    <tr>\n",
       "      <th>4</th>\n",
       "      <td>STM32 Dev Board</td>\n",
       "      <td>168000000</td>\n",
       "      <td>168000.00</td>\n",
       "      <td>Power/Control Subsystem</td>\n",
       "    </tr>\n",
       "    <tr>\n",
       "      <th>1</th>\n",
       "      <td>Induction Heater</td>\n",
       "      <td>50000</td>\n",
       "      <td>50.00</td>\n",
       "      <td>Crucible Subsystem</td>\n",
       "    </tr>\n",
       "    <tr>\n",
       "      <th>2</th>\n",
       "      <td>Induction Coil Assembly</td>\n",
       "      <td>50000</td>\n",
       "      <td>50.00</td>\n",
       "      <td>Crucible Subsystem</td>\n",
       "    </tr>\n",
       "    <tr>\n",
       "      <th>0</th>\n",
       "      <td>40kHz Transducers</td>\n",
       "      <td>40000</td>\n",
       "      <td>40.00</td>\n",
       "      <td>Acoustic Cylinder Subsystem</td>\n",
       "    </tr>\n",
       "    <tr>\n",
       "      <th>5</th>\n",
       "      <td>Acoustic Bus PCB</td>\n",
       "      <td>40000</td>\n",
       "      <td>40.00</td>\n",
       "      <td>Power/Control Subsystem</td>\n",
       "    </tr>\n",
       "    <tr>\n",
       "      <th>3</th>\n",
       "      <td>Thermal Pulse Formation</td>\n",
       "      <td>10</td>\n",
       "      <td>0.01</td>\n",
       "      <td>Crucible Subsystem</td>\n",
       "    </tr>\n",
       "  </tbody>\n",
       "</table>\n",
       "</div>"
      ],
      "text/plain": [
       "                 Component  Frequency (Hz)  Frequency (kHz)  \\\n",
       "4          STM32 Dev Board       168000000        168000.00   \n",
       "1         Induction Heater           50000            50.00   \n",
       "2  Induction Coil Assembly           50000            50.00   \n",
       "0        40kHz Transducers           40000            40.00   \n",
       "5         Acoustic Bus PCB           40000            40.00   \n",
       "3  Thermal Pulse Formation              10             0.01   \n",
       "\n",
       "                      Category  \n",
       "4      Power/Control Subsystem  \n",
       "1           Crucible Subsystem  \n",
       "2           Crucible Subsystem  \n",
       "0  Acoustic Cylinder Subsystem  \n",
       "5      Power/Control Subsystem  \n",
       "3           Crucible Subsystem  "
      ]
     },
     "metadata": {},
     "output_type": "display_data"
    },
    {
     "name": "stdout",
     "output_type": "stream",
     "text": [
      "\n",
      "⚡ Frequency Interference Check:\n",
      "  ⚠️ Potential interference: Acoustic Bus PCB vs 40kHz Transducers\n"
     ]
    }
   ],
   "source": [
    "class PropertyCalculator:\n",
    "    \"\"\"Calculate any property across components\"\"\"\n",
    "    \n",
    "    def __init__(self, registry):\n",
    "        self.registry = registry\n",
    "        \n",
    "    def calculate_property(self, property_path: str, aggregation: str = 'sum'):\n",
    "        \"\"\"\n",
    "        Calculate a property across all components\n",
    "        property_path: e.g., 'tech_specs.power_consumption'\n",
    "        aggregation: 'sum', 'mean', 'max', 'min', 'list'\n",
    "        \"\"\"\n",
    "        values = []\n",
    "        \n",
    "        for comp in self.registry.components:\n",
    "            try:\n",
    "                # Navigate the property path\n",
    "                value = comp\n",
    "                for attr in property_path.split('.'):\n",
    "                    value = getattr(value, attr, None)\n",
    "                    if value is None:\n",
    "                        break\n",
    "                \n",
    "                if value is not None:\n",
    "                    # Account for quantity if numeric\n",
    "                    if isinstance(value, (int, float)) and aggregation in ['sum', 'mean']:\n",
    "                        value = value * comp.quantity\n",
    "                    values.append({'component': comp.name, 'value': value})\n",
    "            except:\n",
    "                continue\n",
    "        \n",
    "        if not values:\n",
    "            return None\n",
    "        \n",
    "        # Aggregate results\n",
    "        if aggregation == 'sum':\n",
    "            return sum(v['value'] for v in values if isinstance(v['value'], (int, float)))\n",
    "        elif aggregation == 'mean':\n",
    "            nums = [v['value'] for v in values if isinstance(v['value'], (int, float))]\n",
    "            return sum(nums) / len(nums) if nums else 0\n",
    "        elif aggregation == 'max':\n",
    "            nums = [v['value'] for v in values if isinstance(v['value'], (int, float))]\n",
    "            return max(nums) if nums else 0\n",
    "        elif aggregation == 'min':\n",
    "            nums = [v['value'] for v in values if isinstance(v['value'], (int, float))]\n",
    "            return min(nums) if nums else 0\n",
    "        else:  # list\n",
    "            return values\n",
    "    \n",
    "    def analyze_all_properties(self):\n",
    "        \"\"\"Comprehensive analysis of all technical properties\"\"\"\n",
    "        \n",
    "        print(\"🔬 COMPREHENSIVE PROPERTY ANALYSIS\")\n",
    "        print(\"=\" * 80)\n",
    "        \n",
    "        # Define properties to analyze\n",
    "        properties = {\n",
    "            'Power Consumption (W)': ('tech_specs.power_consumption', 'sum'),\n",
    "            'Total Weight (kg)': ('tech_specs.weight', 'sum'),\n",
    "            'Max Temperature (°C)': ('tech_specs.max_temp', 'max'),\n",
    "            'Min Operating Temp (°C)': ('tech_specs.operating_temp', 'min'),\n",
    "            'Total Cost ($)': ('total_cost', 'sum'),\n",
    "            'Efficiency (avg %)': ('tech_specs.efficiency', 'mean'),\n",
    "            'Total Thermal Dissipation (W)': ('tech_specs.thermal_dissipation', 'sum'),\n",
    "        }\n",
    "        \n",
    "        results = {}\n",
    "        for prop_name, (path, agg) in properties.items():\n",
    "            value = self.calculate_property(path, agg)\n",
    "            if value is not None:\n",
    "                results[prop_name] = value\n",
    "                print(f\"  {prop_name:30} {value:>15.2f}\")\n",
    "        \n",
    "        return results\n",
    "    \n",
    "    def material_analysis(self):\n",
    "        \"\"\"Analyze materials used in the system\"\"\"\n",
    "        \n",
    "        print(\"\\n🔨 MATERIAL USAGE ANALYSIS\")\n",
    "        print(\"=\" * 80)\n",
    "        \n",
    "        materials = {}\n",
    "        processes = {}\n",
    "        \n",
    "        for comp in self.registry.components:\n",
    "            # Count materials\n",
    "            if comp.material:\n",
    "                materials[comp.material] = materials.get(comp.material, 0) + 1\n",
    "            elif comp.tech_specs.material_spec:\n",
    "                # Extract primary material from spec\n",
    "                mat = comp.tech_specs.material_spec.split(',')[0].split(' ')[0]\n",
    "                materials[mat] = materials.get(mat, 0) + 1\n",
    "            \n",
    "            # Count processes\n",
    "            if comp.process:\n",
    "                processes[comp.process] = processes.get(comp.process, 0) + 1\n",
    "        \n",
    "        print(\"\\n📦 Materials Used:\")\n",
    "        for mat, count in sorted(materials.items(), key=lambda x: x[1], reverse=True):\n",
    "            print(f\"  {mat:30} {count:3} components\")\n",
    "        \n",
    "        print(\"\\n🏭 Manufacturing Processes:\")\n",
    "        for proc, count in sorted(processes.items(), key=lambda x: x[1], reverse=True):\n",
    "            print(f\"  {proc:30} {count:3} components\")\n",
    "        \n",
    "        return materials, processes\n",
    "    \n",
    "    def frequency_analysis(self):\n",
    "        \"\"\"Analyze operating frequencies in the system\"\"\"\n",
    "        \n",
    "        print(\"\\n📡 FREQUENCY DOMAIN ANALYSIS\")\n",
    "        print(\"=\" * 80)\n",
    "        \n",
    "        frequency_components = []\n",
    "        \n",
    "        for comp in self.registry.components:\n",
    "            if comp.tech_specs.frequency:\n",
    "                frequency_components.append({\n",
    "                    'Component': comp.name,\n",
    "                    'Frequency (Hz)': comp.tech_specs.frequency,\n",
    "                    'Frequency (kHz)': comp.tech_specs.frequency / 1000,\n",
    "                    'Category': comp.category.value\n",
    "                })\n",
    "        \n",
    "        if frequency_components:\n",
    "            df = pd.DataFrame(frequency_components)\n",
    "            df = df.sort_values('Frequency (Hz)', ascending=False)\n",
    "            display(df)\n",
    "            \n",
    "            # Check for interference\n",
    "            print(\"\\n⚡ Frequency Interference Check:\")\n",
    "            acoustics = [f for f in frequency_components if 'Transducer' in f['Component']]\n",
    "            others = [f for f in frequency_components if 'Transducer' not in f['Component']]\n",
    "            \n",
    "            for other in others:\n",
    "                for acoustic in acoustics:\n",
    "                    ratio = other['Frequency (Hz)'] / acoustic['Frequency (Hz)']\n",
    "                    if 0.9 < ratio < 1.1:\n",
    "                        print(f\"  ⚠️ Potential interference: {other['Component']} vs {acoustic['Component']}\")\n",
    "                    elif ratio == round(ratio) and ratio < 10:\n",
    "                        print(f\"  ⚠️ Harmonic relationship: {other['Component']} is {ratio:.0f}x {acoustic['Component']}\")\n",
    "        \n",
    "        return frequency_components\n",
    "\n",
    "# Initialize calculator\n",
    "calc = PropertyCalculator(registry)\n",
    "\n",
    "# Run all analyses\n",
    "print(\"Running comprehensive property analysis...\\n\")\n",
    "properties = calc.analyze_all_properties()\n",
    "materials, processes = calc.material_analysis()\n",
    "frequencies = calc.frequency_analysis()"
   ]
  },
  {
   "cell_type": "markdown",
   "metadata": {},
   "source": [
    "## Thermal Management Deep Dive"
   ]
  },
  {
   "cell_type": "code",
   "execution_count": 20,
   "metadata": {},
   "outputs": [
    {
     "name": "stdout",
     "output_type": "stream",
     "text": [
      "🌡️ THERMAL MANAGEMENT DEEP DIVE\n",
      "================================================================================\n",
      "\n",
      "🔥 Major Heat Sources (>10W):\n"
     ]
    },
    {
     "data": {
      "text/html": [
       "<div>\n",
       "<style scoped>\n",
       "    .dataframe tbody tr th:only-of-type {\n",
       "        vertical-align: middle;\n",
       "    }\n",
       "\n",
       "    .dataframe tbody tr th {\n",
       "        vertical-align: top;\n",
       "    }\n",
       "\n",
       "    .dataframe thead th {\n",
       "        text-align: right;\n",
       "    }\n",
       "</style>\n",
       "<table border=\"1\" class=\"dataframe\">\n",
       "  <thead>\n",
       "    <tr style=\"text-align: right;\">\n",
       "      <th></th>\n",
       "      <th>Component</th>\n",
       "      <th>Category</th>\n",
       "      <th>Power (W)</th>\n",
       "      <th>Heat Generated (W)</th>\n",
       "      <th>Cooling Required</th>\n",
       "      <th>Max Temp (°C)</th>\n",
       "    </tr>\n",
       "  </thead>\n",
       "  <tbody>\n",
       "    <tr>\n",
       "      <th>9</th>\n",
       "      <td>10kW PSU</td>\n",
       "      <td>Power/Control Subsystem</td>\n",
       "      <td>10000</td>\n",
       "      <td>1000.0</td>\n",
       "      <td>forced air</td>\n",
       "      <td>70</td>\n",
       "    </tr>\n",
       "    <tr>\n",
       "      <th>4</th>\n",
       "      <td>Cooling Layer</td>\n",
       "      <td>Acoustic Cylinder Subsystem</td>\n",
       "      <td>0</td>\n",
       "      <td>500.0</td>\n",
       "      <td>forced air</td>\n",
       "      <td>N/A</td>\n",
       "    </tr>\n",
       "    <tr>\n",
       "      <th>5</th>\n",
       "      <td>Induction Heater</td>\n",
       "      <td>Crucible Subsystem</td>\n",
       "      <td>3000</td>\n",
       "      <td>300.0</td>\n",
       "      <td>forced air</td>\n",
       "      <td>50</td>\n",
       "    </tr>\n",
       "    <tr>\n",
       "      <th>0</th>\n",
       "      <td>Heating Rods</td>\n",
       "      <td>Heated Bed Subsystem</td>\n",
       "      <td>4000</td>\n",
       "      <td>200.0</td>\n",
       "      <td>passive</td>\n",
       "      <td>800</td>\n",
       "    </tr>\n",
       "    <tr>\n",
       "      <th>1</th>\n",
       "      <td>Heated Bed Assembly</td>\n",
       "      <td>Heated Bed Subsystem</td>\n",
       "      <td>4000</td>\n",
       "      <td>200.0</td>\n",
       "      <td>passive</td>\n",
       "      <td>850</td>\n",
       "    </tr>\n",
       "    <tr>\n",
       "      <th>8</th>\n",
       "      <td>Material Delivery System</td>\n",
       "      <td>Crucible Subsystem</td>\n",
       "      <td>1000</td>\n",
       "      <td>200.0</td>\n",
       "      <td>passive</td>\n",
       "      <td>450</td>\n",
       "    </tr>\n",
       "    <tr>\n",
       "      <th>7</th>\n",
       "      <td>Crucible Assembly</td>\n",
       "      <td>Crucible Subsystem</td>\n",
       "      <td>0</td>\n",
       "      <td>100.0</td>\n",
       "      <td>none</td>\n",
       "      <td>2000</td>\n",
       "    </tr>\n",
       "    <tr>\n",
       "      <th>10</th>\n",
       "      <td>6-Channel Amp Modules</td>\n",
       "      <td>Power/Control Subsystem</td>\n",
       "      <td>400</td>\n",
       "      <td>80.0</td>\n",
       "      <td>passive</td>\n",
       "      <td>N/A</td>\n",
       "    </tr>\n",
       "    <tr>\n",
       "      <th>6</th>\n",
       "      <td>Micro Heaters</td>\n",
       "      <td>Crucible Subsystem</td>\n",
       "      <td>1000</td>\n",
       "      <td>50.0</td>\n",
       "      <td>passive</td>\n",
       "      <td>350</td>\n",
       "    </tr>\n",
       "    <tr>\n",
       "      <th>2</th>\n",
       "      <td>Conductive Block</td>\n",
       "      <td>Heated Bed Subsystem</td>\n",
       "      <td>0</td>\n",
       "      <td>50.0</td>\n",
       "      <td>passive</td>\n",
       "      <td>900</td>\n",
       "    </tr>\n",
       "    <tr>\n",
       "      <th>3</th>\n",
       "      <td>40kHz Transducers</td>\n",
       "      <td>Acoustic Cylinder Subsystem</td>\n",
       "      <td>180</td>\n",
       "      <td>36.0</td>\n",
       "      <td>passive</td>\n",
       "      <td>80</td>\n",
       "    </tr>\n",
       "  </tbody>\n",
       "</table>\n",
       "</div>"
      ],
      "text/plain": [
       "                   Component                     Category  Power (W)  \\\n",
       "9                   10kW PSU      Power/Control Subsystem      10000   \n",
       "4              Cooling Layer  Acoustic Cylinder Subsystem          0   \n",
       "5           Induction Heater           Crucible Subsystem       3000   \n",
       "0               Heating Rods         Heated Bed Subsystem       4000   \n",
       "1        Heated Bed Assembly         Heated Bed Subsystem       4000   \n",
       "8   Material Delivery System           Crucible Subsystem       1000   \n",
       "7          Crucible Assembly           Crucible Subsystem          0   \n",
       "10     6-Channel Amp Modules      Power/Control Subsystem        400   \n",
       "6              Micro Heaters           Crucible Subsystem       1000   \n",
       "2           Conductive Block         Heated Bed Subsystem          0   \n",
       "3          40kHz Transducers  Acoustic Cylinder Subsystem        180   \n",
       "\n",
       "    Heat Generated (W) Cooling Required Max Temp (°C)  \n",
       "9               1000.0       forced air            70  \n",
       "4                500.0       forced air           N/A  \n",
       "5                300.0       forced air            50  \n",
       "0                200.0          passive           800  \n",
       "1                200.0          passive           850  \n",
       "8                200.0          passive           450  \n",
       "7                100.0             none          2000  \n",
       "10                80.0          passive           N/A  \n",
       "6                 50.0          passive           350  \n",
       "2                 50.0          passive           900  \n",
       "3                 36.0          passive            80  "
      ]
     },
     "metadata": {},
     "output_type": "display_data"
    },
    {
     "name": "stdout",
     "output_type": "stream",
     "text": [
      "\n",
      "📊 Total Heat Generation: 2716W\n",
      "\n",
      "❄️ Cooling System Requirements:\n",
      "----------------------------------------\n",
      "  None           5 components,    100W heat load\n",
      "  Passive      143 components,    330W heat load\n",
      "  Forced Air     4 components,   1800W heat load\n",
      "  Liquid         3 components,      0W heat load\n",
      "\n",
      "🔴 Temperature Critical Components:\n",
      "----------------------------------------\n"
     ]
    },
    {
     "data": {
      "text/html": [
       "<div>\n",
       "<style scoped>\n",
       "    .dataframe tbody tr th:only-of-type {\n",
       "        vertical-align: middle;\n",
       "    }\n",
       "\n",
       "    .dataframe tbody tr th {\n",
       "        vertical-align: top;\n",
       "    }\n",
       "\n",
       "    .dataframe thead th {\n",
       "        text-align: right;\n",
       "    }\n",
       "</style>\n",
       "<table border=\"1\" class=\"dataframe\">\n",
       "  <thead>\n",
       "    <tr style=\"text-align: right;\">\n",
       "      <th></th>\n",
       "      <th>Component</th>\n",
       "      <th>Max Temp</th>\n",
       "      <th>Operating Range</th>\n",
       "      <th>Cooling</th>\n",
       "    </tr>\n",
       "  </thead>\n",
       "  <tbody>\n",
       "    <tr>\n",
       "      <th>0</th>\n",
       "      <td>40kHz Transducers</td>\n",
       "      <td>80°C</td>\n",
       "      <td>(0, 60)</td>\n",
       "      <td>passive</td>\n",
       "    </tr>\n",
       "    <tr>\n",
       "      <th>1</th>\n",
       "      <td>Induction Heater</td>\n",
       "      <td>50°C</td>\n",
       "      <td>(0, 45)</td>\n",
       "      <td>forced air</td>\n",
       "    </tr>\n",
       "    <tr>\n",
       "      <th>2</th>\n",
       "      <td>10kW PSU</td>\n",
       "      <td>70°C</td>\n",
       "      <td>(0, 50)</td>\n",
       "      <td>forced air</td>\n",
       "    </tr>\n",
       "  </tbody>\n",
       "</table>\n",
       "</div>"
      ],
      "text/plain": [
       "           Component Max Temp Operating Range     Cooling\n",
       "0  40kHz Transducers     80°C         (0, 60)     passive\n",
       "1   Induction Heater     50°C         (0, 45)  forced air\n",
       "2           10kW PSU     70°C         (0, 50)  forced air"
      ]
     },
     "metadata": {},
     "output_type": "display_data"
    },
    {
     "name": "stdout",
     "output_type": "stream",
     "text": [
      "\n",
      "💨 Cooling System Design Requirements:\n",
      "----------------------------------------\n",
      "  Forced Air Cooling:\n",
      "    - Heat Load: 1800W\n",
      "    - Airflow Required: 600 CFM minimum\n",
      "    - Recommended Fans: 7× 120mm fans\n"
     ]
    },
    {
     "data": {
      "application/vnd.plotly.v1+json": {
       "config": {
        "plotlyServerURL": "https://plot.ly"
       },
       "data": [
        {
         "marker": {
          "color": [
           "blue",
           "green",
           "orange",
           "red"
          ]
         },
         "type": "bar",
         "x": [
          "Cold (<50°C)",
          "Warm (50-100°C)",
          "Hot (100-500°C)",
          "Very Hot (>500°C)"
         ],
         "y": [
          0,
          3,
          9,
          10
         ]
        }
       ],
       "layout": {
        "height": 400,
        "template": {
         "data": {
          "bar": [
           {
            "error_x": {
             "color": "#2a3f5f"
            },
            "error_y": {
             "color": "#2a3f5f"
            },
            "marker": {
             "line": {
              "color": "#E5ECF6",
              "width": 0.5
             },
             "pattern": {
              "fillmode": "overlay",
              "size": 10,
              "solidity": 0.2
             }
            },
            "type": "bar"
           }
          ],
          "barpolar": [
           {
            "marker": {
             "line": {
              "color": "#E5ECF6",
              "width": 0.5
             },
             "pattern": {
              "fillmode": "overlay",
              "size": 10,
              "solidity": 0.2
             }
            },
            "type": "barpolar"
           }
          ],
          "carpet": [
           {
            "aaxis": {
             "endlinecolor": "#2a3f5f",
             "gridcolor": "white",
             "linecolor": "white",
             "minorgridcolor": "white",
             "startlinecolor": "#2a3f5f"
            },
            "baxis": {
             "endlinecolor": "#2a3f5f",
             "gridcolor": "white",
             "linecolor": "white",
             "minorgridcolor": "white",
             "startlinecolor": "#2a3f5f"
            },
            "type": "carpet"
           }
          ],
          "choropleth": [
           {
            "colorbar": {
             "outlinewidth": 0,
             "ticks": ""
            },
            "type": "choropleth"
           }
          ],
          "contour": [
           {
            "colorbar": {
             "outlinewidth": 0,
             "ticks": ""
            },
            "colorscale": [
             [
              0,
              "#0d0887"
             ],
             [
              0.1111111111111111,
              "#46039f"
             ],
             [
              0.2222222222222222,
              "#7201a8"
             ],
             [
              0.3333333333333333,
              "#9c179e"
             ],
             [
              0.4444444444444444,
              "#bd3786"
             ],
             [
              0.5555555555555556,
              "#d8576b"
             ],
             [
              0.6666666666666666,
              "#ed7953"
             ],
             [
              0.7777777777777778,
              "#fb9f3a"
             ],
             [
              0.8888888888888888,
              "#fdca26"
             ],
             [
              1,
              "#f0f921"
             ]
            ],
            "type": "contour"
           }
          ],
          "contourcarpet": [
           {
            "colorbar": {
             "outlinewidth": 0,
             "ticks": ""
            },
            "type": "contourcarpet"
           }
          ],
          "heatmap": [
           {
            "colorbar": {
             "outlinewidth": 0,
             "ticks": ""
            },
            "colorscale": [
             [
              0,
              "#0d0887"
             ],
             [
              0.1111111111111111,
              "#46039f"
             ],
             [
              0.2222222222222222,
              "#7201a8"
             ],
             [
              0.3333333333333333,
              "#9c179e"
             ],
             [
              0.4444444444444444,
              "#bd3786"
             ],
             [
              0.5555555555555556,
              "#d8576b"
             ],
             [
              0.6666666666666666,
              "#ed7953"
             ],
             [
              0.7777777777777778,
              "#fb9f3a"
             ],
             [
              0.8888888888888888,
              "#fdca26"
             ],
             [
              1,
              "#f0f921"
             ]
            ],
            "type": "heatmap"
           }
          ],
          "histogram": [
           {
            "marker": {
             "pattern": {
              "fillmode": "overlay",
              "size": 10,
              "solidity": 0.2
             }
            },
            "type": "histogram"
           }
          ],
          "histogram2d": [
           {
            "colorbar": {
             "outlinewidth": 0,
             "ticks": ""
            },
            "colorscale": [
             [
              0,
              "#0d0887"
             ],
             [
              0.1111111111111111,
              "#46039f"
             ],
             [
              0.2222222222222222,
              "#7201a8"
             ],
             [
              0.3333333333333333,
              "#9c179e"
             ],
             [
              0.4444444444444444,
              "#bd3786"
             ],
             [
              0.5555555555555556,
              "#d8576b"
             ],
             [
              0.6666666666666666,
              "#ed7953"
             ],
             [
              0.7777777777777778,
              "#fb9f3a"
             ],
             [
              0.8888888888888888,
              "#fdca26"
             ],
             [
              1,
              "#f0f921"
             ]
            ],
            "type": "histogram2d"
           }
          ],
          "histogram2dcontour": [
           {
            "colorbar": {
             "outlinewidth": 0,
             "ticks": ""
            },
            "colorscale": [
             [
              0,
              "#0d0887"
             ],
             [
              0.1111111111111111,
              "#46039f"
             ],
             [
              0.2222222222222222,
              "#7201a8"
             ],
             [
              0.3333333333333333,
              "#9c179e"
             ],
             [
              0.4444444444444444,
              "#bd3786"
             ],
             [
              0.5555555555555556,
              "#d8576b"
             ],
             [
              0.6666666666666666,
              "#ed7953"
             ],
             [
              0.7777777777777778,
              "#fb9f3a"
             ],
             [
              0.8888888888888888,
              "#fdca26"
             ],
             [
              1,
              "#f0f921"
             ]
            ],
            "type": "histogram2dcontour"
           }
          ],
          "mesh3d": [
           {
            "colorbar": {
             "outlinewidth": 0,
             "ticks": ""
            },
            "type": "mesh3d"
           }
          ],
          "parcoords": [
           {
            "line": {
             "colorbar": {
              "outlinewidth": 0,
              "ticks": ""
             }
            },
            "type": "parcoords"
           }
          ],
          "pie": [
           {
            "automargin": true,
            "type": "pie"
           }
          ],
          "scatter": [
           {
            "fillpattern": {
             "fillmode": "overlay",
             "size": 10,
             "solidity": 0.2
            },
            "type": "scatter"
           }
          ],
          "scatter3d": [
           {
            "line": {
             "colorbar": {
              "outlinewidth": 0,
              "ticks": ""
             }
            },
            "marker": {
             "colorbar": {
              "outlinewidth": 0,
              "ticks": ""
             }
            },
            "type": "scatter3d"
           }
          ],
          "scattercarpet": [
           {
            "marker": {
             "colorbar": {
              "outlinewidth": 0,
              "ticks": ""
             }
            },
            "type": "scattercarpet"
           }
          ],
          "scattergeo": [
           {
            "marker": {
             "colorbar": {
              "outlinewidth": 0,
              "ticks": ""
             }
            },
            "type": "scattergeo"
           }
          ],
          "scattergl": [
           {
            "marker": {
             "colorbar": {
              "outlinewidth": 0,
              "ticks": ""
             }
            },
            "type": "scattergl"
           }
          ],
          "scattermap": [
           {
            "marker": {
             "colorbar": {
              "outlinewidth": 0,
              "ticks": ""
             }
            },
            "type": "scattermap"
           }
          ],
          "scattermapbox": [
           {
            "marker": {
             "colorbar": {
              "outlinewidth": 0,
              "ticks": ""
             }
            },
            "type": "scattermapbox"
           }
          ],
          "scatterpolar": [
           {
            "marker": {
             "colorbar": {
              "outlinewidth": 0,
              "ticks": ""
             }
            },
            "type": "scatterpolar"
           }
          ],
          "scatterpolargl": [
           {
            "marker": {
             "colorbar": {
              "outlinewidth": 0,
              "ticks": ""
             }
            },
            "type": "scatterpolargl"
           }
          ],
          "scatterternary": [
           {
            "marker": {
             "colorbar": {
              "outlinewidth": 0,
              "ticks": ""
             }
            },
            "type": "scatterternary"
           }
          ],
          "surface": [
           {
            "colorbar": {
             "outlinewidth": 0,
             "ticks": ""
            },
            "colorscale": [
             [
              0,
              "#0d0887"
             ],
             [
              0.1111111111111111,
              "#46039f"
             ],
             [
              0.2222222222222222,
              "#7201a8"
             ],
             [
              0.3333333333333333,
              "#9c179e"
             ],
             [
              0.4444444444444444,
              "#bd3786"
             ],
             [
              0.5555555555555556,
              "#d8576b"
             ],
             [
              0.6666666666666666,
              "#ed7953"
             ],
             [
              0.7777777777777778,
              "#fb9f3a"
             ],
             [
              0.8888888888888888,
              "#fdca26"
             ],
             [
              1,
              "#f0f921"
             ]
            ],
            "type": "surface"
           }
          ],
          "table": [
           {
            "cells": {
             "fill": {
              "color": "#EBF0F8"
             },
             "line": {
              "color": "white"
             }
            },
            "header": {
             "fill": {
              "color": "#C8D4E3"
             },
             "line": {
              "color": "white"
             }
            },
            "type": "table"
           }
          ]
         },
         "layout": {
          "annotationdefaults": {
           "arrowcolor": "#2a3f5f",
           "arrowhead": 0,
           "arrowwidth": 1
          },
          "autotypenumbers": "strict",
          "coloraxis": {
           "colorbar": {
            "outlinewidth": 0,
            "ticks": ""
           }
          },
          "colorscale": {
           "diverging": [
            [
             0,
             "#8e0152"
            ],
            [
             0.1,
             "#c51b7d"
            ],
            [
             0.2,
             "#de77ae"
            ],
            [
             0.3,
             "#f1b6da"
            ],
            [
             0.4,
             "#fde0ef"
            ],
            [
             0.5,
             "#f7f7f7"
            ],
            [
             0.6,
             "#e6f5d0"
            ],
            [
             0.7,
             "#b8e186"
            ],
            [
             0.8,
             "#7fbc41"
            ],
            [
             0.9,
             "#4d9221"
            ],
            [
             1,
             "#276419"
            ]
           ],
           "sequential": [
            [
             0,
             "#0d0887"
            ],
            [
             0.1111111111111111,
             "#46039f"
            ],
            [
             0.2222222222222222,
             "#7201a8"
            ],
            [
             0.3333333333333333,
             "#9c179e"
            ],
            [
             0.4444444444444444,
             "#bd3786"
            ],
            [
             0.5555555555555556,
             "#d8576b"
            ],
            [
             0.6666666666666666,
             "#ed7953"
            ],
            [
             0.7777777777777778,
             "#fb9f3a"
            ],
            [
             0.8888888888888888,
             "#fdca26"
            ],
            [
             1,
             "#f0f921"
            ]
           ],
           "sequentialminus": [
            [
             0,
             "#0d0887"
            ],
            [
             0.1111111111111111,
             "#46039f"
            ],
            [
             0.2222222222222222,
             "#7201a8"
            ],
            [
             0.3333333333333333,
             "#9c179e"
            ],
            [
             0.4444444444444444,
             "#bd3786"
            ],
            [
             0.5555555555555556,
             "#d8576b"
            ],
            [
             0.6666666666666666,
             "#ed7953"
            ],
            [
             0.7777777777777778,
             "#fb9f3a"
            ],
            [
             0.8888888888888888,
             "#fdca26"
            ],
            [
             1,
             "#f0f921"
            ]
           ]
          },
          "colorway": [
           "#636efa",
           "#EF553B",
           "#00cc96",
           "#ab63fa",
           "#FFA15A",
           "#19d3f3",
           "#FF6692",
           "#B6E880",
           "#FF97FF",
           "#FECB52"
          ],
          "font": {
           "color": "#2a3f5f"
          },
          "geo": {
           "bgcolor": "white",
           "lakecolor": "white",
           "landcolor": "#E5ECF6",
           "showlakes": true,
           "showland": true,
           "subunitcolor": "white"
          },
          "hoverlabel": {
           "align": "left"
          },
          "hovermode": "closest",
          "mapbox": {
           "style": "light"
          },
          "paper_bgcolor": "white",
          "plot_bgcolor": "#E5ECF6",
          "polar": {
           "angularaxis": {
            "gridcolor": "white",
            "linecolor": "white",
            "ticks": ""
           },
           "bgcolor": "#E5ECF6",
           "radialaxis": {
            "gridcolor": "white",
            "linecolor": "white",
            "ticks": ""
           }
          },
          "scene": {
           "xaxis": {
            "backgroundcolor": "#E5ECF6",
            "gridcolor": "white",
            "gridwidth": 2,
            "linecolor": "white",
            "showbackground": true,
            "ticks": "",
            "zerolinecolor": "white"
           },
           "yaxis": {
            "backgroundcolor": "#E5ECF6",
            "gridcolor": "white",
            "gridwidth": 2,
            "linecolor": "white",
            "showbackground": true,
            "ticks": "",
            "zerolinecolor": "white"
           },
           "zaxis": {
            "backgroundcolor": "#E5ECF6",
            "gridcolor": "white",
            "gridwidth": 2,
            "linecolor": "white",
            "showbackground": true,
            "ticks": "",
            "zerolinecolor": "white"
           }
          },
          "shapedefaults": {
           "line": {
            "color": "#2a3f5f"
           }
          },
          "ternary": {
           "aaxis": {
            "gridcolor": "white",
            "linecolor": "white",
            "ticks": ""
           },
           "baxis": {
            "gridcolor": "white",
            "linecolor": "white",
            "ticks": ""
           },
           "bgcolor": "#E5ECF6",
           "caxis": {
            "gridcolor": "white",
            "linecolor": "white",
            "ticks": ""
           }
          },
          "title": {
           "x": 0.05
          },
          "xaxis": {
           "automargin": true,
           "gridcolor": "white",
           "linecolor": "white",
           "ticks": "",
           "title": {
            "standoff": 15
           },
           "zerolinecolor": "white",
           "zerolinewidth": 2
          },
          "yaxis": {
           "automargin": true,
           "gridcolor": "white",
           "linecolor": "white",
           "ticks": "",
           "title": {
            "standoff": 15
           },
           "zerolinecolor": "white",
           "zerolinewidth": 2
          }
         }
        },
        "title": {
         "text": "Component Distribution by Temperature Zone"
        },
        "xaxis": {
         "title": {
          "text": "Temperature Zone"
         }
        },
        "yaxis": {
         "title": {
          "text": "Number of Components"
         }
        }
       }
      }
     },
     "metadata": {},
     "output_type": "display_data"
    }
   ],
   "source": [
    "def thermal_management_analysis():\n",
    "    \"\"\"Deep dive into thermal management requirements\"\"\"\n",
    "    \n",
    "    print(\"🌡️ THERMAL MANAGEMENT DEEP DIVE\")\n",
    "    print(\"=\" * 80)\n",
    "    \n",
    "    # 1. Heat Generation Analysis\n",
    "    heat_sources = []\n",
    "    total_heat = 0\n",
    "    \n",
    "    for comp in registry.components:\n",
    "        heat_gen = 0\n",
    "        \n",
    "        if comp.tech_specs.thermal_dissipation:\n",
    "            heat_gen = comp.tech_specs.thermal_dissipation * comp.quantity\n",
    "        elif comp.tech_specs.power_consumption and comp.tech_specs.efficiency:\n",
    "            power = comp.tech_specs.power_consumption * comp.quantity\n",
    "            heat_gen = power * (1 - comp.tech_specs.efficiency / 100)\n",
    "        elif comp.tech_specs.power_consumption:\n",
    "            # Assume 20% loss if no efficiency given\n",
    "            heat_gen = comp.tech_specs.power_consumption * comp.quantity * 0.2\n",
    "        \n",
    "        if heat_gen > 10:  # Only show significant heat sources\n",
    "            heat_sources.append({\n",
    "                'Component': comp.name,\n",
    "                'Category': comp.category.value,\n",
    "                'Power (W)': comp.tech_specs.power_consumption * comp.quantity if comp.tech_specs.power_consumption else 0,\n",
    "                'Heat Generated (W)': heat_gen,\n",
    "                'Cooling Required': comp.tech_specs.cooling_required or 'passive',\n",
    "                'Max Temp (°C)': comp.tech_specs.max_temp or 'N/A'\n",
    "            })\n",
    "            total_heat += heat_gen\n",
    "    \n",
    "    # Display heat sources\n",
    "    df_heat = pd.DataFrame(heat_sources)\n",
    "    df_heat = df_heat.sort_values('Heat Generated (W)', ascending=False)\n",
    "    \n",
    "    print(\"\\n🔥 Major Heat Sources (>10W):\")\n",
    "    display(df_heat)\n",
    "    \n",
    "    print(f\"\\n📊 Total Heat Generation: {total_heat:.0f}W\")\n",
    "    \n",
    "    # 2. Cooling Requirements Summary\n",
    "    print(\"\\n❄️ Cooling System Requirements:\")\n",
    "    print(\"-\" * 40)\n",
    "    \n",
    "    cooling_summary = {\n",
    "        'none': {'count': 0, 'heat': 0},\n",
    "        'passive': {'count': 0, 'heat': 0},\n",
    "        'forced air': {'count': 0, 'heat': 0},\n",
    "        'liquid': {'count': 0, 'heat': 0}\n",
    "    }\n",
    "    \n",
    "    for comp in registry.components:\n",
    "        cooling_type = comp.tech_specs.cooling_required or 'passive'\n",
    "        if cooling_type in cooling_summary:\n",
    "            cooling_summary[cooling_type]['count'] += comp.quantity\n",
    "            \n",
    "            if comp.tech_specs.thermal_dissipation:\n",
    "                cooling_summary[cooling_type]['heat'] += comp.tech_specs.thermal_dissipation * comp.quantity\n",
    "    \n",
    "    for cooling_type, data in cooling_summary.items():\n",
    "        if data['count'] > 0:\n",
    "            print(f\"  {cooling_type.title():12} {data['count']:3} components, {data['heat']:6.0f}W heat load\")\n",
    "    \n",
    "    # 3. Critical Temperature Zones\n",
    "    print(\"\\n🔴 Temperature Critical Components:\")\n",
    "    print(\"-\" * 40)\n",
    "    \n",
    "    critical_temps = []\n",
    "    for comp in registry.components:\n",
    "        if comp.tech_specs.max_temp and comp.tech_specs.max_temp < 100:\n",
    "            critical_temps.append({\n",
    "                'Component': comp.name,\n",
    "                'Max Temp': f\"{comp.tech_specs.max_temp}°C\",\n",
    "                'Operating Range': f\"{comp.tech_specs.operating_temp}\" if comp.tech_specs.operating_temp else \"N/A\",\n",
    "                'Cooling': comp.tech_specs.cooling_required or 'passive'\n",
    "            })\n",
    "    \n",
    "    if critical_temps:\n",
    "        df_critical = pd.DataFrame(critical_temps)\n",
    "        display(df_critical)\n",
    "    \n",
    "    # 4. Cooling System Design\n",
    "    print(\"\\n💨 Cooling System Design Requirements:\")\n",
    "    print(\"-\" * 40)\n",
    "    \n",
    "    # Calculate airflow requirements\n",
    "    forced_air_heat = cooling_summary['forced air']['heat']\n",
    "    cfm_required = forced_air_heat / 3  # Rule of thumb: 3W per CFM\n",
    "    \n",
    "    print(f\"  Forced Air Cooling:\")\n",
    "    print(f\"    - Heat Load: {forced_air_heat:.0f}W\")\n",
    "    print(f\"    - Airflow Required: {cfm_required:.0f} CFM minimum\")\n",
    "    print(f\"    - Recommended Fans: {int(cfm_required/100) + 1}× 120mm fans\")\n",
    "    \n",
    "    # Calculate liquid cooling requirements\n",
    "    liquid_heat = cooling_summary['liquid']['heat']\n",
    "    if liquid_heat > 0:\n",
    "        flow_rate = liquid_heat / 1000  # L/min per kW\n",
    "        print(f\"\\n  Liquid Cooling:\")\n",
    "        print(f\"    - Heat Load: {liquid_heat:.0f}W\")\n",
    "        print(f\"    - Flow Rate Required: {flow_rate:.1f} L/min minimum\")\n",
    "        print(f\"    - Radiator Size: {int(liquid_heat/200) + 1}× 120mm sections\")\n",
    "    \n",
    "    # 5. Thermal zones visualization\n",
    "    fig = go.Figure()\n",
    "    \n",
    "    # Create thermal zone map\n",
    "    zones = {\n",
    "        'Cold (<50°C)': 0,\n",
    "        'Warm (50-100°C)': 0,\n",
    "        'Hot (100-500°C)': 0,\n",
    "        'Very Hot (>500°C)': 0\n",
    "    }\n",
    "    \n",
    "    for comp in registry.components:\n",
    "        if comp.tech_specs.max_temp:\n",
    "            if comp.tech_specs.max_temp < 50:\n",
    "                zones['Cold (<50°C)'] += 1\n",
    "            elif comp.tech_specs.max_temp < 100:\n",
    "                zones['Warm (50-100°C)'] += 1\n",
    "            elif comp.tech_specs.max_temp < 500:\n",
    "                zones['Hot (100-500°C)'] += 1\n",
    "            else:\n",
    "                zones['Very Hot (>500°C)'] += 1\n",
    "    \n",
    "    fig.add_trace(go.Bar(\n",
    "        x=list(zones.keys()),\n",
    "        y=list(zones.values()),\n",
    "        marker_color=['blue', 'green', 'orange', 'red']\n",
    "    ))\n",
    "    \n",
    "    fig.update_layout(\n",
    "        title=\"Component Distribution by Temperature Zone\",\n",
    "        xaxis_title=\"Temperature Zone\",\n",
    "        yaxis_title=\"Number of Components\",\n",
    "        height=400\n",
    "    )\n",
    "    fig.show()\n",
    "    \n",
    "    return df_heat\n",
    "\n",
    "# Run thermal analysis\n",
    "thermal_df = thermal_management_analysis()"
   ]
  },
  {
   "cell_type": "markdown",
   "metadata": {},
   "source": [
    "## Electrical System Analysis"
   ]
  },
  {
   "cell_type": "code",
   "execution_count": null,
   "metadata": {},
   "outputs": [],
   "source": [
    "def electrical_system_analysis():\n",
    "    \"\"\"Complete electrical system analysis\"\"\"\n",
    "    \n",
    "    print(\"⚡ ELECTRICAL SYSTEM ANALYSIS\")\n",
    "    print(\"=\" * 80)\n",
    "    \n",
    "    # 1. Voltage domains\n",
    "    print(\"\\n🔌 Voltage Domains in System:\")\n",
    "    print(\"-\" * 40)\n",
    "    \n",
    "    voltage_domains = {}\n",
    "    current_by_voltage = {}\n",
    "    \n",
    "    for comp in registry.components:\n",
    "        if comp.tech_specs.voltage_nominal:\n",
    "            v = comp.tech_specs.voltage_nominal\n",
    "            if v not in voltage_domains:\n",
    "                voltage_domains[v] = []\n",
    "                current_by_voltage[v] = 0\n",
    "            \n",
    "            voltage_domains[v].append(comp.name)\n",
    "            if comp.tech_specs.current_draw:\n",
    "                current_by_voltage[v] += comp.tech_specs.current_draw * comp.quantity\n",
    "    \n",
    "    for voltage in sorted(voltage_domains.keys()):\n",
    "        print(f\"\\n  {voltage}V Domain:\")\n",
    "        print(f\"    Components: {len(voltage_domains[voltage])}\")\n",
    "        print(f\"    Total Current: {current_by_voltage[voltage]:.1f}A\")\n",
    "        if current_by_voltage[voltage] > 0:\n",
    "            print(f\"    Wire Gauge Required: AWG {14 - int(current_by_voltage[voltage]/10)}\")\n",
    "    \n",
    "    # 2. Power Distribution Tree\n",
    "    print(\"\\n🌳 Power Distribution Hierarchy:\")\n",
    "    print(\"-\" * 40)\n",
    "    \n",
    "    print(\"  [MAINS 220V AC]\")\n",
    "    print(\"    ├── 10kW PSU → 48V DC @ 208A\")\n",
    "    print(\"    │   ├── Control Bus PCB → Multiple voltages\")\n",
    "    print(\"    │   ├── Amplifier Modules → 24V @ 16A\")\n",
    "    print(\"    │   └── Relay Modules → 5V @ 2A\")\n",
    "    print(\"    ├── Heating Rods → 220V @ 18A\")\n",
    "    print(\"    ├── Induction Heater → 220V @ 15A\")\n",
    "    print(\"    └── Thermal Bus PCB → 220V switched\")\n",
    "    \n",
    "    # 3. Current capacity check\n",
    "    print(\"\\n⚡ Current Capacity Analysis:\")\n",
    "    print(\"-\" * 40)\n",
    "    \n",
    "    # Main power consumers\n",
    "    power_systems = [\n",
    "        {'Name': '48V Bus', 'Current': 208, 'Capacity': 250, 'Wire': 'AWG 0'},\n",
    "        {'Name': '24V Bus', 'Current': 20, 'Capacity': 30, 'Wire': 'AWG 10'},\n",
    "        {'Name': '12V Bus', 'Current': 15, 'Capacity': 20, 'Wire': 'AWG 12'},\n",
    "        {'Name': '5V Bus', 'Current': 5, 'Capacity': 10, 'Wire': 'AWG 16'},\n",
    "        {'Name': '220V Heating', 'Current': 18, 'Capacity': 20, 'Wire': 'AWG 12'},\n",
    "    ]\n",
    "    \n",
    "    df_current = pd.DataFrame(power_systems)\n",
    "    df_current['Utilization (%)'] = (df_current['Current'] / df_current['Capacity'] * 100).round(1)\n",
    "    df_current['Status'] = df_current['Utilization (%)'].apply(\n",
    "        lambda x: '✅ OK' if x < 80 else '⚠️ High' if x < 95 else '❌ Over'\n",
    "    )\n",
    "    display(df_current)\n",
    "    \n",
    "    # 4. Signal Integrity Considerations\n",
    "    print(\"\\n📶 Signal Integrity Analysis:\")\n",
    "    print(\"-\" * 40)\n",
    "    \n",
    "    high_freq_signals = []\n",
    "    for comp in registry.components:\n",
    "        if comp.tech_specs.frequency and comp.tech_specs.frequency > 1000:\n",
    "            high_freq_signals.append({\n",
    "                'Component': comp.name,\n",
    "                'Frequency': f\"{comp.tech_specs.frequency/1000:.0f} kHz\",\n",
    "                'Signal Type': comp.tech_specs.control_signal or 'Unknown'\n",
    "            })\n",
    "    \n",
    "    if high_freq_signals:\n",
    "        print(\"  High-Frequency Signals (>1kHz):\")\n",
    "        for signal in high_freq_signals:\n",
    "            print(f\"    • {signal['Component']}: {signal['Frequency']} - {signal['Signal Type']}\")\n",
    "        print(\"\\n  ⚠️ Recommendations:\")\n",
    "        print(\"    - Use shielded cables for signals >10kHz\")\n",
    "        print(\"    - Maintain 50Ω impedance for RF signals\")\n",
    "        print(\"    - Separate power and signal grounds\")\n",
    "    \n",
    "    # 5. Protection requirements\n",
    "    print(\"\\n🛡️ Circuit Protection Requirements:\")\n",
    "    print(\"-\" * 40)\n",
    "    \n",
    "    protection_needed = [\n",
    "        {'Circuit': 'Main 220V Input', 'Rating': '63A', 'Type': 'MCB Type C'},\n",
    "        {'Circuit': '48V PSU Output', 'Rating': '250A', 'Type': 'DC Breaker'},\n",
    "        {'Circuit': 'Heating Circuits', 'Rating': '20A', 'Type': 'MCB Type B'},\n",
    "        {'Circuit': 'Control Circuits', 'Rating': '10A', 'Type': 'MCB Type B'},\n",
    "        {'Circuit': 'Transducer Array', 'Rating': '5A', 'Type': 'Fuse'},\n",
    "    ]\n",
    "    \n",
    "    df_protection = pd.DataFrame(protection_needed)\n",
    "    display(df_protection)\n",
    "    \n",
    "    return df_current\n",
    "\n",
    "# Run electrical analysis\n",
    "electrical_df = electrical_system_analysis()"
   ]
  },
  {
   "cell_type": "markdown",
   "metadata": {},
   "source": [
    "## System Performance Metrics and KPIs"
   ]
  },
  {
   "cell_type": "code",
   "execution_count": null,
   "metadata": {},
   "outputs": [],
   "source": [
    "def system_performance_metrics():\n",
    "    \"\"\"Calculate key performance indicators for the system\"\"\"\n",
    "    \n",
    "    print(\"📈 SYSTEM PERFORMANCE METRICS\")\n",
    "    print(\"=\" * 80)\n",
    "    \n",
    "    # Calculate metrics\n",
    "    metrics = {}\n",
    "    \n",
    "    # Basic metrics from registry\n",
    "    metrics['Total Components'] = len(registry.components)\n",
    "    metrics['Total Cost'] = sum(c.total_cost for c in registry.components)\n",
    "    metrics['Total Power'] = registry.calculate_power_budget()['TOTAL']['active_power']\n",
    "    metrics['Total Weight'] = sum(c.tech_specs.weight * c.quantity for c in registry.components \n",
    "                                 if c.tech_specs.weight)\n",
    "    \n",
    "    # Efficiency metrics\n",
    "    metrics['Power Density (W/kg)'] = metrics['Total Power'] / metrics['Total Weight'] if metrics['Total Weight'] > 0 else 0\n",
    "    metrics['Cost per Watt ($/W)'] = metrics['Total Cost'] / metrics['Total Power'] if metrics['Total Power'] > 0 else 0\n",
    "    metrics['Cost per kg ($/kg)'] = metrics['Total Cost'] / metrics['Total Weight'] if metrics['Total Weight'] > 0 else 0\n",
    "    \n",
    "    # Subsystem metrics\n",
    "    power_budget = registry.calculate_power_budget()\n",
    "    metrics['Acoustic Power'] = power_budget['Acoustic Cylinder Subsystem']['active_power']\n",
    "    metrics['Thermal Power'] = power_budget['Heated Bed Subsystem']['active_power'] + \\\n",
    "                              power_budget['Crucible Subsystem']['active_power']\n",
    "    metrics['Control Power'] = power_budget['Power/Control Subsystem']['active_power']\n",
    "    \n",
    "    # Performance ratios\n",
    "    metrics['Acoustic Efficiency (W/transducer)'] = metrics['Acoustic Power'] / 18  # 18 transducers\n",
    "    metrics['Thermal Efficiency (%)'] = (metrics['Thermal Power'] / metrics['Total Power'] * 100)\n",
    "    metrics['Control Overhead (%)'] = (metrics['Control Power'] / metrics['Total Power'] * 100)\n",
    "    \n",
    "    # Display as dashboard\n",
    "    print(\"\\n📊 KEY PERFORMANCE INDICATORS\")\n",
    "    print(\"-\" * 60)\n",
    "    \n",
    "    # Format metrics for display\n",
    "    display_groups = {\n",
    "        'System Totals': ['Total Components', 'Total Cost', 'Total Power', 'Total Weight'],\n",
    "        'Efficiency Metrics': ['Power Density (W/kg)', 'Cost per Watt ($/W)', 'Cost per kg ($/kg)'],\n",
    "        'Power Distribution': ['Acoustic Power', 'Thermal Power', 'Control Power'],\n",
    "        'Performance Ratios': ['Acoustic Efficiency (W/transducer)', 'Thermal Efficiency (%)', 'Control Overhead (%)']\n",
    "    }\n",
    "    \n",
    "    for group_name, metric_names in display_groups.items():\n",
    "        print(f\"\\n{group_name}:\")\n",
    "        for metric_name in metric_names:\n",
    "            if metric_name in metrics:\n",
    "                value = metrics[metric_name]\n",
    "                if 'Cost' in metric_name or '$' in metric_name:\n",
    "                    print(f\"  {metric_name:40} ${value:,.2f}\")\n",
    "                elif '%' in metric_name:\n",
    "                    print(f\"  {metric_name:40} {value:.1f}%\")\n",
    "                elif 'Components' in metric_name:\n",
    "                    print(f\"  {metric_name:40} {value:.0f}\")\n",
    "                else:\n",
    "                    print(f\"  {metric_name:40} {value:.2f}\")\n",
    "    \n",
    "    # Create performance spider chart\n",
    "    categories = ['Cost\\nEfficiency', 'Power\\nDensity', 'Thermal\\nManagement', \n",
    "                  'Acoustic\\nPerformance', 'Build\\nVolume']\n",
    "    \n",
    "    # Normalize metrics to 0-100 scale\n",
    "    values = [\n",
    "        min(100, (15000 - metrics['Total Cost']) / 150),  # Cost efficiency\n",
    "        min(100, metrics['Power Density (W/kg)'] / 2),  # Power density\n",
    "        min(100, metrics['Thermal Efficiency (%)']),  # Thermal management\n",
    "        min(100, metrics['Acoustic Efficiency (W/transducer)'] * 5),  # Acoustic performance\n",
    "        75  # Build volume (125cm³ is 75% of target)\n",
    "    ]\n",
    "    \n",
    "    fig = go.Figure()\n",
    "    \n",
    "    fig.add_trace(go.Scatterpolar(\n",
    "        r=values,\n",
    "        theta=categories,\n",
    "        fill='toself',\n",
    "        name='Level 1 System'\n",
    "    ))\n",
    "    \n",
    "    fig.update_layout(\n",
    "        polar=dict(\n",
    "            radialaxis=dict(\n",
    "                visible=True,\n",
    "                range=[0, 100]\n",
    "            )),\n",
    "        showlegend=True,\n",
    "        title=\"System Performance Profile\"\n",
    "    )\n",
    "    fig.show()\n",
    "    \n",
    "    return metrics\n",
    "\n",
    "# Run performance analysis\n",
    "metrics = system_performance_metrics()\n",
    "\n",
    "# Create summary dashboard\n",
    "print(\"\\n\" + \"=\"*60)\n",
    "print(\"🎯 SYSTEM READINESS ASSESSMENT\")\n",
    "print(\"=\"*60)\n",
    "\n",
    "readiness_checks = [\n",
    "    (\"Power Budget\", metrics['Total Power'] < 12000, f\"{metrics['Total Power']:.0f}W < 12,000W\"),\n",
    "    (\"Cost Target\", metrics['Total Cost'] < 15000, f\"${metrics['Total Cost']:,.0f} < $15,000\"),\n",
    "    (\"Weight Limit\", metrics['Total Weight'] < 150, f\"{metrics['Total Weight']:.1f}kg < 150kg\"),\n",
    "    (\"Thermal Management\", metrics['Thermal Efficiency (%)'] > 30, f\"{metrics['Thermal Efficiency (%)']:.1f}% > 30%\"),\n",
    "    (\"Control Overhead\", metrics['Control Overhead (%)'] < 20, f\"{metrics['Control Overhead (%)']:.1f}% < 20%\")\n",
    "]\n",
    "\n",
    "passed = 0\n",
    "for check_name, status, details in readiness_checks:\n",
    "    status_icon = \"✅\" if status else \"❌\"\n",
    "    passed += 1 if status else 0\n",
    "    print(f\"{status_icon} {check_name:20} {details}\")\n",
    "\n",
    "print(f\"\\nOverall Readiness: {passed}/{len(readiness_checks)} checks passed\")\n",
    "print(f\"System Status: {'READY FOR BUILD' if passed == len(readiness_checks) else 'REVIEW REQUIRED'}\")"
   ]
  },
  {
   "cell_type": "markdown",
   "metadata": {},
   "source": [
    "## Interactive Property Explorer"
   ]
  },
  {
   "cell_type": "code",
   "execution_count": null,
   "metadata": {},
   "outputs": [],
   "source": [
    "# Create interactive widget for exploring any property\n",
    "def create_property_explorer():\n",
    "    \"\"\"Interactive tool to explore any component property\"\"\"\n",
    "    \n",
    "    # Get all available properties\n",
    "    sample_comp = registry.components[0]\n",
    "    \n",
    "    # Build property list\n",
    "    properties = []\n",
    "    \n",
    "    # Direct component properties\n",
    "    for attr in ['name', 'specification', 'quantity', 'unit_cost', 'total_cost', \n",
    "                 'material', 'supplier', 'lead_time_weeks']:\n",
    "        if hasattr(sample_comp, attr):\n",
    "            properties.append(attr)\n",
    "    \n",
    "    # TechnicalSpecs properties\n",
    "    if hasattr(sample_comp, 'tech_specs'):\n",
    "        for attr in dir(sample_comp.tech_specs):\n",
    "            if not attr.startswith('_'):\n",
    "                properties.append(f'tech_specs.{attr}')\n",
    "    \n",
    "    # Create widgets\n",
    "    property_selector = widgets.Dropdown(\n",
    "        options=properties,\n",
    "        value='total_cost',\n",
    "        description='Property:',\n",
    "        style={'description_width': 'initial'}\n",
    "    )\n",
    "    \n",
    "    category_filter = widgets.SelectMultiple(\n",
    "        options=['All'] + [cat.value for cat in ComponentCategory],\n",
    "        value=['All'],\n",
    "        description='Categories:',\n",
    "        rows=6,\n",
    "        style={'description_width': 'initial'}\n",
    "    )\n",
    "    \n",
    "    output_area = widgets.Output()\n",
    "    \n",
    "    def analyze_property(btn):\n",
    "        with output_area:\n",
    "            output_area.clear_output()\n",
    "            \n",
    "            selected_prop = property_selector.value\n",
    "            selected_cats = list(category_filter.value)\n",
    "            \n",
    "            # Filter components\n",
    "            if 'All' in selected_cats:\n",
    "                filtered_comps = registry.components\n",
    "            else:\n",
    "                filtered_comps = [c for c in registry.components \n",
    "                                 if c.category.value in selected_cats]\n",
    "            \n",
    "            # Extract property values\n",
    "            data = []\n",
    "            for comp in filtered_comps:\n",
    "                try:\n",
    "                    value = comp\n",
    "                    for attr in selected_prop.split('.'):\n",
    "                        value = getattr(value, attr, None)\n",
    "                        if value is None:\n",
    "                            break\n",
    "                    \n",
    "                    if value is not None:\n",
    "                        data.append({\n",
    "                            'Component': comp.name,\n",
    "                            'Category': comp.category.value,\n",
    "                            selected_prop: value\n",
    "                        })\n",
    "                except:\n",
    "                    continue\n",
    "            \n",
    "            if data:\n",
    "                df = pd.DataFrame(data)\n",
    "                \n",
    "                # Display statistics if numeric\n",
    "                if df[selected_prop].dtype in ['float64', 'int64']:\n",
    "                    print(f\"📊 Statistics for {selected_prop}:\")\n",
    "                    print(f\"  Count: {len(df)}\")\n",
    "                    print(f\"  Mean: {df[selected_prop].mean():.2f}\")\n",
    "                    print(f\"  Median: {df[selected_prop].median():.2f}\")\n",
    "                    print(f\"  Min: {df[selected_prop].min():.2f}\")\n",
    "                    print(f\"  Max: {df[selected_prop].max():.2f}\")\n",
    "                    print(f\"  Total: {df[selected_prop].sum():.2f}\")\n",
    "                    print()\n",
    "                \n",
    "                # Display table\n",
    "                display(df.sort_values(selected_prop, ascending=False).head(20))\n",
    "                \n",
    "                # Create visualization if numeric\n",
    "                if df[selected_prop].dtype in ['float64', 'int64'] and len(df) > 1:\n",
    "                    fig = px.bar(df.sort_values(selected_prop, ascending=True).tail(15),\n",
    "                                x=selected_prop, y='Component',\n",
    "                                color='Category',\n",
    "                                title=f'Top Components by {selected_prop}',\n",
    "                                orientation='h')\n",
    "                    fig.update_layout(height=400)\n",
    "                    fig.show()\n",
    "            else:\n",
    "                print(\"No data available for this property/category combination\")\n",
    "    \n",
    "    analyze_btn = widgets.Button(\n",
    "        description='Analyze Property',\n",
    "        button_style='primary',\n",
    "        icon='search'\n",
    "    )\n",
    "    analyze_btn.on_click(analyze_property)\n",
    "    \n",
    "    # Layout\n",
    "    ui = widgets.VBox([\n",
    "        widgets.HTML(\"<h3>Property Explorer</h3>\"),\n",
    "        widgets.HBox([\n",
    "            widgets.VBox([property_selector, category_filter]),\n",
    "            analyze_btn\n",
    "        ]),\n",
    "        output_area\n",
    "    ])\n",
    "    \n",
    "    return ui\n",
    "\n",
    "# Create and display the explorer\n",
    "explorer = create_property_explorer()\n",
    "display(explorer)"
   ]
  }
 ],
 "metadata": {
  "kernelspec": {
   "display_name": "Python 3 (ipykernel)",
   "language": "python",
   "name": "python3"
  },
  "language_info": {
   "codemirror_mode": {
    "name": "ipython",
    "version": 3
   },
   "file_extension": ".py",
   "mimetype": "text/x-python",
   "name": "python",
   "nbconvert_exporter": "python",
   "pygments_lexer": "ipython3",
   "version": "3.9.23"
  }
 },
 "nbformat": 4,
 "nbformat_minor": 4
}
