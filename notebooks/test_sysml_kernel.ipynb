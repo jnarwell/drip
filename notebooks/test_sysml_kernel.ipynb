{
 "cells": [
  {
   "cell_type": "markdown",
   "metadata": {},
   "source": [
    "# SysML v2 Kernel Test\n",
    "This notebook tests the SysML v2 kernel installation"
   ]
  },
  {
   "cell_type": "code",
   "execution_count": null,
   "metadata": {},
   "outputs": [],
   "source": [
    "// Test simple SysML package\n",
    "package TestPackage {\n",
    "    part def TestPart {\n",
    "        attribute mass : Real = 100 [kg];\n",
    "        attribute temperature : Real = 25 [°C];\n",
    "    }\n",
    "}"
   ]
  }
 ],
 "metadata": {
  "kernelspec": {
   "display_name": "SysML",
   "language": "sysml",
   "name": "sysml"
  },
  "language_info": {
   "name": "sysml"
  }
 },
 "nbformat": 4,
 "nbformat_minor": 4
}